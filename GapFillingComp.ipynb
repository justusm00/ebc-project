{
 "cells": [
  {
   "cell_type": "markdown",
   "metadata": {},
   "source": [
    "This notebook is for comparing the gap filling techniques visually"
   ]
  },
  {
   "cell_type": "code",
   "execution_count": 1,
   "metadata": {},
   "outputs": [],
   "source": [
    "import numpy as np\n",
    "import pandas as pd\n",
    "import matplotlib.pyplot as plt\n",
    "import os\n",
    "import torch"
   ]
  },
  {
   "cell_type": "code",
   "execution_count": 2,
   "metadata": {},
   "outputs": [],
   "source": [
    "# First import the model\n",
    "from modules.MLPstuff import MLP\n",
    "from modules.util import grab_data, EBCDataset"
   ]
  },
  {
   "cell_type": "code",
   "execution_count": 3,
   "metadata": {},
   "outputs": [
    {
     "name": "stdout",
     "output_type": "stream",
     "text": [
      "(11655, 12)\n",
      "(11655, 2)\n",
      "(11655, 14)\n"
     ]
    }
   ],
   "source": [
    "# Load the data on which predictions and or gap filling are to be done\n",
    "from columns import COLS_FEATURES, COLS_LABELS, COLS_TIME\n",
    "input, target, dim_in, dim_out = grab_data('data/data_merged_with_nans.csv', columns_data=COLS_FEATURES, columns_labels=COLS_LABELS, return_dataset = False )\n",
    "data = pd.concat([input, target], axis=1)\n",
    "print(input.shape)\n",
    "print(target.shape)\n",
    "print(data.shape)"
   ]
  },
  {
   "cell_type": "code",
   "execution_count": 4,
   "metadata": {},
   "outputs": [
    {
     "data": {
      "text/plain": [
       "MLP(\n",
       "  (flatten): Flatten(start_dim=1, end_dim=-1)\n",
       "  (linear_relu_stack): Sequential(\n",
       "    (0): Linear(in_features=12, out_features=30, bias=True)\n",
       "    (1): ReLU()\n",
       "    (2): Linear(in_features=30, out_features=30, bias=True)\n",
       "    (3): ReLU()\n",
       "    (4): Linear(in_features=30, out_features=30, bias=True)\n",
       "    (5): ReLU()\n",
       "    (6): Linear(in_features=30, out_features=30, bias=True)\n",
       "    (7): ReLU()\n",
       "    (8): Linear(in_features=30, out_features=30, bias=True)\n",
       "    (9): ReLU()\n",
       "    (10): Linear(in_features=30, out_features=2, bias=True)\n",
       "  )\n",
       ")"
      ]
     },
     "execution_count": 4,
     "metadata": {},
     "output_type": "execute_result"
    }
   ],
   "source": [
    "# Load the model\n",
    "model = MLP(dim_in, dim_out, num_hidden_units=30, num_hidden_layers=4)\n",
    "model.load_state_dict(torch.load('model_saves/mlp_1.pth'))\n",
    "model.eval()"
   ]
  },
  {
   "cell_type": "code",
   "execution_count": 316,
   "metadata": {},
   "outputs": [
    {
     "name": "stdout",
     "output_type": "stream",
     "text": [
      "NaNs per column:\n",
      "day                           0\n",
      "waterPressureDeficit          0\n",
      "month                         0\n",
      "outgoingShortwaveRadiation    0\n",
      "waterVaporPressure            0\n",
      "soilHeatflux                  0\n",
      "location                      0\n",
      "airPressure                   0\n",
      "year                          0\n",
      "windSpeed                     0\n",
      "30min                         0\n",
      "incomingShortwaveRadiation    0\n",
      "dtype: int64\n"
     ]
    }
   ],
   "source": [
    "# Get an overview about NaNs per Row to remove input data nans\n",
    "nan_counts = input.isnull().sum()\n",
    "print(\"NaNs per column:\")\n",
    "print(nan_counts)"
   ]
  },
  {
   "cell_type": "code",
   "execution_count": 317,
   "metadata": {},
   "outputs": [],
   "source": [
    "# identify rows where labels are NaN, but features aren't\n",
    "mask_nan = data[COLS_LABELS].isna().any(axis=1)\n",
    "mask_not_nan = data[COLS_FEATURES].notna().all(axis=1)\n",
    "\n",
    "# Combine the masks\n",
    "combined_mask = mask_nan & mask_not_nan\n",
    "\n",
    "# data used for prediction\n",
    "input = data[combined_mask][COLS_FEATURES].reset_index(drop=True)"
   ]
  },
  {
   "cell_type": "code",
   "execution_count": 318,
   "metadata": {},
   "outputs": [
    {
     "name": "stdout",
     "output_type": "stream",
     "text": [
      "(0, 14)\n",
      "(0, 12)\n"
     ]
    }
   ],
   "source": [
    "print(data[data[COLS_LABELS].isna().any(axis=1)].shape)\n",
    "print(input.shape)"
   ]
  },
  {
   "cell_type": "code",
   "execution_count": 5,
   "metadata": {},
   "outputs": [
    {
     "data": {
      "text/html": [
       "<div>\n",
       "<style scoped>\n",
       "    .dataframe tbody tr th:only-of-type {\n",
       "        vertical-align: middle;\n",
       "    }\n",
       "\n",
       "    .dataframe tbody tr th {\n",
       "        vertical-align: top;\n",
       "    }\n",
       "\n",
       "    .dataframe thead th {\n",
       "        text-align: right;\n",
       "    }\n",
       "</style>\n",
       "<table border=\"1\" class=\"dataframe\">\n",
       "  <thead>\n",
       "    <tr style=\"text-align: right;\">\n",
       "      <th></th>\n",
       "      <th>year</th>\n",
       "      <th>month</th>\n",
       "      <th>day</th>\n",
       "      <th>30min</th>\n",
       "      <th>location</th>\n",
       "      <th>incomingShortwaveRadiation</th>\n",
       "      <th>outgoingShortwaveRadiation</th>\n",
       "      <th>soilHeatflux</th>\n",
       "      <th>airPressure</th>\n",
       "      <th>waterPressureDeficit</th>\n",
       "      <th>waterVaporPressure</th>\n",
       "      <th>windSpeed</th>\n",
       "    </tr>\n",
       "  </thead>\n",
       "  <tbody>\n",
       "    <tr>\n",
       "      <th>0</th>\n",
       "      <td>2023</td>\n",
       "      <td>2</td>\n",
       "      <td>16</td>\n",
       "      <td>23</td>\n",
       "      <td>0</td>\n",
       "      <td>408.582000</td>\n",
       "      <td>87.725333</td>\n",
       "      <td>6.283667</td>\n",
       "      <td>996.140667</td>\n",
       "      <td>2.131392</td>\n",
       "      <td>6.857902</td>\n",
       "      <td>1.988667</td>\n",
       "    </tr>\n",
       "    <tr>\n",
       "      <th>1</th>\n",
       "      <td>2023</td>\n",
       "      <td>2</td>\n",
       "      <td>16</td>\n",
       "      <td>25</td>\n",
       "      <td>0</td>\n",
       "      <td>256.372000</td>\n",
       "      <td>53.086667</td>\n",
       "      <td>11.058000</td>\n",
       "      <td>995.548000</td>\n",
       "      <td>2.456927</td>\n",
       "      <td>6.827809</td>\n",
       "      <td>1.910667</td>\n",
       "    </tr>\n",
       "    <tr>\n",
       "      <th>2</th>\n",
       "      <td>2023</td>\n",
       "      <td>2</td>\n",
       "      <td>16</td>\n",
       "      <td>26</td>\n",
       "      <td>0</td>\n",
       "      <td>371.893667</td>\n",
       "      <td>82.873667</td>\n",
       "      <td>10.838333</td>\n",
       "      <td>995.325667</td>\n",
       "      <td>2.997957</td>\n",
       "      <td>7.012585</td>\n",
       "      <td>1.548333</td>\n",
       "    </tr>\n",
       "    <tr>\n",
       "      <th>3</th>\n",
       "      <td>2023</td>\n",
       "      <td>2</td>\n",
       "      <td>16</td>\n",
       "      <td>27</td>\n",
       "      <td>0</td>\n",
       "      <td>342.721000</td>\n",
       "      <td>78.387333</td>\n",
       "      <td>13.126333</td>\n",
       "      <td>994.989667</td>\n",
       "      <td>3.479701</td>\n",
       "      <td>6.975607</td>\n",
       "      <td>2.116000</td>\n",
       "    </tr>\n",
       "    <tr>\n",
       "      <th>4</th>\n",
       "      <td>2023</td>\n",
       "      <td>2</td>\n",
       "      <td>16</td>\n",
       "      <td>28</td>\n",
       "      <td>0</td>\n",
       "      <td>279.880333</td>\n",
       "      <td>62.984667</td>\n",
       "      <td>14.722000</td>\n",
       "      <td>994.960000</td>\n",
       "      <td>3.488345</td>\n",
       "      <td>7.070665</td>\n",
       "      <td>1.428333</td>\n",
       "    </tr>\n",
       "  </tbody>\n",
       "</table>\n",
       "</div>"
      ],
      "text/plain": [
       "   year  month  day  30min  location  incomingShortwaveRadiation  \\\n",
       "0  2023      2   16     23         0                  408.582000   \n",
       "1  2023      2   16     25         0                  256.372000   \n",
       "2  2023      2   16     26         0                  371.893667   \n",
       "3  2023      2   16     27         0                  342.721000   \n",
       "4  2023      2   16     28         0                  279.880333   \n",
       "\n",
       "   outgoingShortwaveRadiation  soilHeatflux  airPressure  \\\n",
       "0                   87.725333      6.283667   996.140667   \n",
       "1                   53.086667     11.058000   995.548000   \n",
       "2                   82.873667     10.838333   995.325667   \n",
       "3                   78.387333     13.126333   994.989667   \n",
       "4                   62.984667     14.722000   994.960000   \n",
       "\n",
       "   waterPressureDeficit  waterVaporPressure  windSpeed  \n",
       "0              2.131392            6.857902   1.988667  \n",
       "1              2.456927            6.827809   1.910667  \n",
       "2              2.997957            7.012585   1.548333  \n",
       "3              3.479701            6.975607   2.116000  \n",
       "4              3.488345            7.070665   1.428333  "
      ]
     },
     "execution_count": 5,
     "metadata": {},
     "output_type": "execute_result"
    }
   ],
   "source": [
    "input.head()"
   ]
  },
  {
   "cell_type": "code",
   "execution_count": 6,
   "metadata": {},
   "outputs": [],
   "source": [
    "# transform input into torch.tensor and make predictions\n",
    "input_tensor = torch.tensor(input.values, dtype=torch.float32)\n",
    "\n",
    "with torch.no_grad():\n",
    "    pred = model(input_tensor).numpy() #  Transform back to numpy \n",
    "# create dataframe of predictions with target rows and the indices of the missing values\n",
    "pred = pd.DataFrame(pred, columns=target.columns)\n",
    "\n",
    "# merge predictions onto features\n",
    "data_pred = pd.concat([input, pred], axis=1)\n"
   ]
  },
  {
   "cell_type": "code",
   "execution_count": 7,
   "metadata": {},
   "outputs": [
    {
     "data": {
      "text/plain": [
       "tensor([[2.0230e+03, 2.0000e+00, 1.6000e+01,  ..., 2.1314e+00, 6.8579e+00,\n",
       "         1.9887e+00],\n",
       "        [2.0230e+03, 2.0000e+00, 1.6000e+01,  ..., 2.4569e+00, 6.8278e+00,\n",
       "         1.9107e+00],\n",
       "        [2.0230e+03, 2.0000e+00, 1.6000e+01,  ..., 2.9980e+00, 7.0126e+00,\n",
       "         1.5483e+00],\n",
       "        ...,\n",
       "        [2.0240e+03, 6.0000e+00, 3.0000e+01,  ..., 1.6388e+00, 1.5432e+01,\n",
       "         2.9223e+00],\n",
       "        [2.0240e+03, 6.0000e+00, 3.0000e+01,  ..., 1.8795e+00, 1.7002e+01,\n",
       "         5.1367e-01],\n",
       "        [2.0240e+03, 6.0000e+00, 3.0000e+01,  ..., 1.5369e+00, 1.5290e+01,\n",
       "         2.8293e+00]])"
      ]
     },
     "execution_count": 7,
     "metadata": {},
     "output_type": "execute_result"
    }
   ],
   "source": [
    "input_tensor.data"
   ]
  },
  {
   "cell_type": "code",
   "execution_count": 282,
   "metadata": {},
   "outputs": [
    {
     "data": {
      "text/plain": [
       "torch.Size([11655, 12])"
      ]
     },
     "execution_count": 282,
     "metadata": {},
     "output_type": "execute_result"
    }
   ],
   "source": [
    "input_tensor.shape"
   ]
  },
  {
   "cell_type": "code",
   "execution_count": 283,
   "metadata": {},
   "outputs": [
    {
     "data": {
      "text/html": [
       "<div>\n",
       "<style scoped>\n",
       "    .dataframe tbody tr th:only-of-type {\n",
       "        vertical-align: middle;\n",
       "    }\n",
       "\n",
       "    .dataframe tbody tr th {\n",
       "        vertical-align: top;\n",
       "    }\n",
       "\n",
       "    .dataframe thead th {\n",
       "        text-align: right;\n",
       "    }\n",
       "</style>\n",
       "<table border=\"1\" class=\"dataframe\">\n",
       "  <thead>\n",
       "    <tr style=\"text-align: right;\">\n",
       "      <th></th>\n",
       "      <th>H_orig</th>\n",
       "      <th>LE_orig</th>\n",
       "    </tr>\n",
       "  </thead>\n",
       "  <tbody>\n",
       "    <tr>\n",
       "      <th>0</th>\n",
       "      <td>-402.012909</td>\n",
       "      <td>1124.145752</td>\n",
       "    </tr>\n",
       "    <tr>\n",
       "      <th>1</th>\n",
       "      <td>-405.997070</td>\n",
       "      <td>1138.849487</td>\n",
       "    </tr>\n",
       "    <tr>\n",
       "      <th>2</th>\n",
       "      <td>-404.942291</td>\n",
       "      <td>1130.253540</td>\n",
       "    </tr>\n",
       "    <tr>\n",
       "      <th>3</th>\n",
       "      <td>-406.366852</td>\n",
       "      <td>1134.293579</td>\n",
       "    </tr>\n",
       "    <tr>\n",
       "      <th>4</th>\n",
       "      <td>-407.984894</td>\n",
       "      <td>1140.052002</td>\n",
       "    </tr>\n",
       "  </tbody>\n",
       "</table>\n",
       "</div>"
      ],
      "text/plain": [
       "       H_orig      LE_orig\n",
       "0 -402.012909  1124.145752\n",
       "1 -405.997070  1138.849487\n",
       "2 -404.942291  1130.253540\n",
       "3 -406.366852  1134.293579\n",
       "4 -407.984894  1140.052002"
      ]
     },
     "execution_count": 283,
     "metadata": {},
     "output_type": "execute_result"
    }
   ],
   "source": [
    "pred.head()"
   ]
  },
  {
   "cell_type": "code",
   "execution_count": 284,
   "metadata": {},
   "outputs": [
    {
     "data": {
      "text/html": [
       "<div>\n",
       "<style scoped>\n",
       "    .dataframe tbody tr th:only-of-type {\n",
       "        vertical-align: middle;\n",
       "    }\n",
       "\n",
       "    .dataframe tbody tr th {\n",
       "        vertical-align: top;\n",
       "    }\n",
       "\n",
       "    .dataframe thead th {\n",
       "        text-align: right;\n",
       "    }\n",
       "</style>\n",
       "<table border=\"1\" class=\"dataframe\">\n",
       "  <thead>\n",
       "    <tr style=\"text-align: right;\">\n",
       "      <th></th>\n",
       "      <th>H_orig</th>\n",
       "      <th>LE_orig</th>\n",
       "    </tr>\n",
       "  </thead>\n",
       "  <tbody>\n",
       "    <tr>\n",
       "      <th>0</th>\n",
       "      <td>93.76650</td>\n",
       "      <td>112.710</td>\n",
       "    </tr>\n",
       "    <tr>\n",
       "      <th>1</th>\n",
       "      <td>51.96510</td>\n",
       "      <td>30.423</td>\n",
       "    </tr>\n",
       "    <tr>\n",
       "      <th>2</th>\n",
       "      <td>69.53238</td>\n",
       "      <td>39.713</td>\n",
       "    </tr>\n",
       "    <tr>\n",
       "      <th>3</th>\n",
       "      <td>71.31974</td>\n",
       "      <td>39.382</td>\n",
       "    </tr>\n",
       "    <tr>\n",
       "      <th>4</th>\n",
       "      <td>48.84439</td>\n",
       "      <td>32.021</td>\n",
       "    </tr>\n",
       "  </tbody>\n",
       "</table>\n",
       "</div>"
      ],
      "text/plain": [
       "     H_orig  LE_orig\n",
       "0  93.76650  112.710\n",
       "1  51.96510   30.423\n",
       "2  69.53238   39.713\n",
       "3  71.31974   39.382\n",
       "4  48.84439   32.021"
      ]
     },
     "execution_count": 284,
     "metadata": {},
     "output_type": "execute_result"
    }
   ],
   "source": [
    "target.head()"
   ]
  },
  {
   "cell_type": "code",
   "execution_count": 285,
   "metadata": {},
   "outputs": [
    {
     "data": {
      "text/plain": [
       "H_orig     1.884849e+05\n",
       "LE_orig    1.069379e+06\n",
       "dtype: float64"
      ]
     },
     "execution_count": 285,
     "metadata": {},
     "output_type": "execute_result"
    }
   ],
   "source": [
    "df_test = (pred - target) ** 2\n",
    "df_test.mean()"
   ]
  },
  {
   "cell_type": "code",
   "execution_count": 222,
   "metadata": {},
   "outputs": [
    {
     "name": "stdout",
     "output_type": "stream",
     "text": [
      "(15378, 14)\n",
      "(15378, 12)\n",
      "(15378, 2)\n"
     ]
    }
   ],
   "source": [
    "print(data_pred.shape)\n",
    "print(input.shape)\n",
    "print(pred.shape)"
   ]
  },
  {
   "cell_type": "code",
   "execution_count": 223,
   "metadata": {},
   "outputs": [],
   "source": [
    "# create new column indicating that it is a prediction\n",
    "data_pred[\"pred\"] = 'red'\n",
    "\n",
    "# create original dataframe\n",
    "data_orig = data[~mask_nan].reset_index(drop=True)\n",
    "data_orig[\"pred\"] = 'blue'\n",
    "data_plot = pd.concat([data_orig, data_pred])"
   ]
  },
  {
   "cell_type": "code",
   "execution_count": 224,
   "metadata": {},
   "outputs": [
    {
     "name": "stdout",
     "output_type": "stream",
     "text": [
      "(15378, 15)\n",
      "(12040, 15)\n",
      "(27418, 15)\n"
     ]
    }
   ],
   "source": [
    "print(data_pred.shape)\n",
    "print(data_orig.shape)\n",
    "print(data_plot.shape)"
   ]
  },
  {
   "cell_type": "code",
   "execution_count": 225,
   "metadata": {},
   "outputs": [],
   "source": [
    "# filter by location and sort by date\n",
    "data_plot_bg = data_plot[data_plot[\"location\"] == 0].sort_values(by=['year', 'month', 'day', '30min'])\n",
    "data_plot_gw = data_plot[data_plot[\"location\"] == 1].sort_values(by=['year', 'month', 'day', '30min'])"
   ]
  },
  {
   "cell_type": "code",
   "execution_count": 226,
   "metadata": {},
   "outputs": [
    {
     "name": "stdout",
     "output_type": "stream",
     "text": [
      "(9249, 15)\n",
      "(5285, 15)\n"
     ]
    }
   ],
   "source": [
    "print(data_plot_bg[data_plot_bg[\"pred\"] == 'red'].shape)\n",
    "print(data_plot_bg[data_plot_bg[\"pred\"] == 'blue'].shape)"
   ]
  },
  {
   "cell_type": "code",
   "execution_count": 8,
   "metadata": {},
   "outputs": [
    {
     "ename": "NameError",
     "evalue": "name 'data_plot_bg' is not defined",
     "output_type": "error",
     "traceback": [
      "\u001b[0;31m---------------------------------------------------------------------------\u001b[0m",
      "\u001b[0;31mNameError\u001b[0m                                 Traceback (most recent call last)",
      "Cell \u001b[0;32mIn[8], line 3\u001b[0m\n\u001b[1;32m      1\u001b[0m \u001b[38;5;66;03m# Create plots of the filled frame\u001b[39;00m\n\u001b[0;32m----> 3\u001b[0m time \u001b[38;5;241m=\u001b[39m np\u001b[38;5;241m.\u001b[39marange(\u001b[43mdata_plot_bg\u001b[49m\u001b[38;5;241m.\u001b[39mshape[\u001b[38;5;241m0\u001b[39m])\n\u001b[1;32m      5\u001b[0m plt\u001b[38;5;241m.\u001b[39mfigure(figsize\u001b[38;5;241m=\u001b[39m(\u001b[38;5;241m40\u001b[39m,\u001b[38;5;241m5\u001b[39m))\n\u001b[1;32m      6\u001b[0m plt\u001b[38;5;241m.\u001b[39mscatter(time, data_plot_bg[\u001b[38;5;124m'\u001b[39m\u001b[38;5;124mH_orig\u001b[39m\u001b[38;5;124m'\u001b[39m]\u001b[38;5;241m.\u001b[39mto_numpy(), marker\u001b[38;5;241m=\u001b[39m\u001b[38;5;124m'\u001b[39m\u001b[38;5;124mx\u001b[39m\u001b[38;5;124m'\u001b[39m, c\u001b[38;5;241m=\u001b[39mdata_plot_bg[\u001b[38;5;124m'\u001b[39m\u001b[38;5;124mpred\u001b[39m\u001b[38;5;124m'\u001b[39m])\n",
      "\u001b[0;31mNameError\u001b[0m: name 'data_plot_bg' is not defined"
     ]
    }
   ],
   "source": [
    "# Create plots of the filled frame\n",
    "\n",
    "time = np.arange(data_plot_bg.shape[0])\n",
    "\n",
    "plt.figure(figsize=(40,5))\n",
    "plt.scatter(time, data_plot_bg['H_orig'].to_numpy(), marker='x', c=data_plot_bg['pred'])\n",
    "# plt.plot(time, target['H_orig'].to_numpy(), linestyle='dotted' )"
   ]
  },
  {
   "cell_type": "code",
   "execution_count": null,
   "metadata": {},
   "outputs": [],
   "source": []
  }
 ],
 "metadata": {
  "kernelspec": {
   "display_name": "Python 3",
   "language": "python",
   "name": "python3"
  },
  "language_info": {
   "codemirror_mode": {
    "name": "ipython",
    "version": 3
   },
   "file_extension": ".py",
   "mimetype": "text/x-python",
   "name": "python",
   "nbconvert_exporter": "python",
   "pygments_lexer": "ipython3",
   "version": "3.11.5"
  }
 },
 "nbformat": 4,
 "nbformat_minor": 2
}
