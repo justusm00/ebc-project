{
 "cells": [
  {
   "cell_type": "code",
   "execution_count": 61,
   "metadata": {},
   "outputs": [],
   "source": [
    "import os\n",
    "import pandas as pd\n",
    "from modules.util import numerical_to_float\n",
    "\n",
    "\n",
    "df1 = pd.read_csv('data/data_files/BG_meteo_30min_20230101_20230801.csv', sep=',', na_values=['NaN']).drop(0)\n",
    "df2 = pd.read_csv('data/data_files/GW_meteo_30min_20230101_20230801.csv', sep=',', na_values=['NaN']).drop(0)\n",
    "df3 = pd.read_csv('data/data_files/BG_meteo_30min_20240401_20240608.csv', sep=';', na_values=['NaN']).drop(0)\n",
    "df4 = pd.read_csv('data/data_files/GW_meteo_30min_20240401_20240608.csv', sep=';', na_values=['NaN']).drop(0)\n",
    "\n",
    "df1 = df1.drop([\"TIMESTAMP_MITTE\", \"TIMESTAMP_ENDE\"], axis=1)\n",
    "df2 = df2.drop([\"TIMESTAMP_MITTE\", \"TIMESTAMP_ENDE\"], axis=1)\n",
    "df3 = df3.drop([\"TIMESTAMP_MITTE\", \"TIMESTAMP_ENDE\"], axis=1)\n",
    "df4 = df4.drop([\"TIMESTAMP_MITTE\", \"TIMESTAMP_ENDE\"], axis=1)\n",
    "\n",
    "df1_cols = list(df1.columns)\n",
    "df2_cols = list(df2.columns)\n",
    "df3_cols = list(df3.columns)\n",
    "df4_cols = list(df4.columns)\n",
    "\n",
    "df1_cols.remove(\"TIMESTAMP_START\")\n",
    "df2_cols.remove(\"TIMESTAMP_START\")\n",
    "df3_cols.remove(\"TIMESTAMP_START\")\n",
    "df4_cols.remove(\"TIMESTAMP_START\")\n",
    "\n",
    "\n",
    "\n",
    "df1 = numerical_to_float(df1, df1_cols)\n",
    "df2 = numerical_to_float(df2, df2_cols)\n",
    "df3 = numerical_to_float(df3, df3_cols)\n",
    "df4 = numerical_to_float(df4, df4_cols)"
   ]
  },
  {
   "cell_type": "code",
   "execution_count": 62,
   "metadata": {},
   "outputs": [],
   "source": [
    "# merge 2023 and 2024 data, respectively\n",
    "df_23 = df1.merge(df2, how=\"left\", on=\"TIMESTAMP_START\")\n",
    "df_24 = df3.merge(df4, how=\"left\", on=\"TIMESTAMP_START\")\n",
    "\n",
    "# concat both\n",
    "df = pd.concat([df_23, df_24])\n",
    "\n",
    "# merge some cols\n",
    "df['kurzwEinstrahlung'] = df['kurzwEinstrahlung_300cm'].combine_first(df['kurzwEinstrahlung_43m'])\n",
    "df['Bodentemp_1_30cm_temp'] = df['Bodentemp_1_30cm_x'].combine_first(df['Bodentemp_1_30cm_y'])\n",
    "df['Bodentemp_1_30cm_temp'] = df['Bodentemp_1_30cm_temp'].combine_first(df['Bodentemp_1_30cm'])\n",
    "df['Bodentemp_1_30cm'] = df['Bodentemp_1_30cm_temp'].combine_first(df['Bodentemp_30cm_1'])"
   ]
  },
  {
   "cell_type": "code",
   "execution_count": 63,
   "metadata": {},
   "outputs": [],
   "source": [
    "def nan_percentage(df):\n",
    "    \"\"\"\n",
    "    Returns a DataFrame containing the percentage of NaN values in each column of the input DataFrame.\n",
    "    \n",
    "    Parameters:\n",
    "    df (pd.DataFrame): The input DataFrame.\n",
    "    \n",
    "    Returns:\n",
    "    pd.DataFrame: A DataFrame with columns 'Column' and 'NaN_Percentage' showing the percentage of NaN values for each column.\n",
    "    \"\"\"\n",
    "    # Calculate the percentage of NaN values for each column\n",
    "    nan_percentage = df.isna().mean() * 100\n",
    "    \n",
    "    # Create a new DataFrame with the results\n",
    "    nan_df = pd.DataFrame({\n",
    "        'Column': nan_percentage.index,\n",
    "        'NaN_Percentage': nan_percentage.values\n",
    "    })\n",
    "    \n",
    "    return nan_df"
   ]
  },
  {
   "cell_type": "code",
   "execution_count": 64,
   "metadata": {},
   "outputs": [],
   "source": [
    "df_nan = nan_percentage(df)\n",
    "df_nan.to_csv(\"nans.csv\")"
   ]
  },
  {
   "cell_type": "code",
   "execution_count": 65,
   "metadata": {},
   "outputs": [
    {
     "data": {
      "text/plain": [
       "0      -3.695000\n",
       "1      -4.819000\n",
       "2      -4.449333\n",
       "3      -3.713000\n",
       "4      -4.892000\n",
       "          ...   \n",
       "3259   -4.898667\n",
       "3260   -4.613333\n",
       "3261   -4.425667\n",
       "3262   -4.224667\n",
       "3263   -4.180000\n",
       "Name: kurzwEinstrahlung, Length: 13440, dtype: float64"
      ]
     },
     "execution_count": 65,
     "metadata": {},
     "output_type": "execute_result"
    }
   ],
   "source": [
    "df[\"kurzwEinstrahlung\"]"
   ]
  },
  {
   "cell_type": "code",
   "execution_count": null,
   "metadata": {},
   "outputs": [],
   "source": []
  }
 ],
 "metadata": {
  "kernelspec": {
   "display_name": "ebc-project",
   "language": "python",
   "name": "python3"
  },
  "language_info": {
   "codemirror_mode": {
    "name": "ipython",
    "version": 3
   },
   "file_extension": ".py",
   "mimetype": "text/x-python",
   "name": "python",
   "nbconvert_exporter": "python",
   "pygments_lexer": "ipython3",
   "version": "3.11.5"
  }
 },
 "nbformat": 4,
 "nbformat_minor": 2
}
