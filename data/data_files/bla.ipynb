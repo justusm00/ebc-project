{
 "cells": [
  {
   "cell_type": "code",
   "execution_count": 10,
   "metadata": {},
   "outputs": [],
   "source": [
    "import numpy as np\n",
    "import os\n",
    "from tqdm import tqdm\n",
    "import pandas as pd\n",
    "\n",
    "PATH = './'\n",
    "\n",
    "files_meteo = [f for f in os.listdir(PATH) if 'meteo' in f]"
   ]
  },
  {
   "cell_type": "code",
   "execution_count": 37,
   "metadata": {},
   "outputs": [],
   "source": [
    "dfs = []\n",
    "for f in files_meteo:\n",
    "    try: \n",
    "        df = pd.read_csv(PATH+f, sep=',', na_values=['NaN']).drop(0)\n",
    "    except pd.errors.ParserError: \n",
    "        # the 2024 files use ';' as separator and ',' as decimal separator\n",
    "        df = pd.read_csv(PATH+f, sep=';', na_values=['NaN']).drop(0)\n",
    "    dfs.append(df)\n"
   ]
  },
  {
   "cell_type": "code",
   "execution_count": 40,
   "metadata": {},
   "outputs": [],
   "source": [
    "for df in dfs:\n",
    "    df[\"kurzwAusstrahlung\"] = df[df.filter(regex='kurzwAusstrahlun').columns]\n",
    "    df[\"kurzwEinstrahlung\"] = df[df.filter(regex='kurzwEinstrahlun').columns]\n"
   ]
  },
  {
   "cell_type": "code",
   "execution_count": 41,
   "metadata": {},
   "outputs": [
    {
     "name": "stdout",
     "output_type": "stream",
     "text": [
      "Index(['TIMESTAMP_START', 'TIMESTAMP_MITTE', 'TIMESTAMP_ENDE',\n",
      "       'kurzwEinstrahlung_43m', 'kurzwAusstrahlung_43m',\n",
      "       'langwEinstrahlung_43m', 'langwAusstrahlung_43m', 'Luftdruck_43m',\n",
      "       'Lufttemperatur_2m', 'Lufttemperatur_43m', 'RelativeFeuchte_2m',\n",
      "       'RelativeFeuchte_43m', 'Wasserdampfdruck_43m', 'Wasserdampfdefizit_43m',\n",
      "       'Niederschlag_43m', 'BestandsNiederschlag_1m', 'Windgeschw_I_43m',\n",
      "       'Windgeschw_II_43m', 'Windrichtung_43m', 'Bodentemp_1_5cm',\n",
      "       'Bodentemp_2_5cm', 'Bodentemp_3_5cm', 'Bodentemp_1_15cm',\n",
      "       'Bodentemp_2_15cm', 'Bodentemp_3_15cm', 'Bodentemp_1_30cm',\n",
      "       'Bodentemp_2_30cm', 'Bodentemp_3_30cm', 'Bodenfeuchte_1_5cm',\n",
      "       'Bodenfeuchte_2_5cm', 'Bodenfeuchte_3_5cm', 'Bodenfeuchte_1_15cm',\n",
      "       'Bodenfeuchte_2_15cm', 'Bodenfeuchte_3_15cm', 'Bodenfeuchte_1_30cm',\n",
      "       'Bodenfeuchte_2_30cm', 'Bodenfeuchte_3_30cm', 'kurzwAusstrahlung',\n",
      "       'kurzwEinstrahlung'],\n",
      "      dtype='object')\n",
      "Index(['TIMESTAMP_START', 'TIMESTAMP_MITTE', 'TIMESTAMP_ENDE',\n",
      "       'kurzwEinstrahlung_43m', 'kurzwAusstrahlun_43m',\n",
      "       'langwEinstrahlung_43m', 'langwAusstrahlung_43m', 'Luftdruck_43m',\n",
      "       'Lufttemperatur_43m', 'RelativeFeuchte_43m', 'Wasserdampfdruck_43m',\n",
      "       'Wasserdampfdefizit_43m', 'Niederschlag_43m', 'Windgeschw_I_43m',\n",
      "       'Windgeschw_II_43m', 'BestandsNiederschlag_1m', 'Bodentemp_1_5cm',\n",
      "       'Bodentemp_2_5cm', 'Bodentemp_3_5cm', 'Bodentemp_4_5cm',\n",
      "       'Bodentemp_1_15cm', 'Bodentemp_2_15cm', 'Bodentemp_3_15cm',\n",
      "       'Bodentemp_4_15cm', 'Bodentemp_1_30cm', 'Bodentemp_2_30cm',\n",
      "       'Bodentemp_3_30cm', 'Bodentemp_4_30cm', 'kurzwAusstrahlung',\n",
      "       'kurzwEinstrahlung'],\n",
      "      dtype='object')\n",
      "Index(['TIMESTAMP_START', 'TIMESTAMP_MITTE', 'TIMESTAMP_ENDE',\n",
      "       'kurzwEinstrahlung_300cm', 'kurzwAusstrahlung_300cm',\n",
      "       'Nettostrahlung_300cm', 'PPFDEinstrahlung_300cm',\n",
      "       'PPFDAusstrahlung_300cm', 'Bodenwaermefluss', 'Luftdruck',\n",
      "       'Lufttemperatur_40cm', 'Lufttemperatur_200cm', 'RelativeFeuchte_40cm',\n",
      "       'RelativeFeuchte_200cm', 'Wasserdampfdruck_200cm',\n",
      "       'Wasserdampfdefizit_200cm', 'Niederschlag_I_150cm',\n",
      "       'Niederschlag_II_150cm', 'Windgeschw_380cm', 'Windrichtung_380cm',\n",
      "       'Bodentemp_1_30cm', 'Bodentemp_2_30cm', 'Bodentemp_3_30cm',\n",
      "       'Bodenfeuchte_1_30cm', 'Bodenfeuchte_2_30cm', 'Bodenfeuchte_3_30cm',\n",
      "       'kurzwAusstrahlung', 'kurzwEinstrahlung'],\n",
      "      dtype='object')\n",
      "Index(['TIMESTAMP_START', 'TIMESTAMP_MITTE', 'TIMESTAMP_ENDE',\n",
      "       'kurzwEinstrahlung_300cm', 'kurzwAusstrahlung_300cm',\n",
      "       'Nettostrahlung_300cm', 'diffuseEinstrahlung_160cm',\n",
      "       'PPFDEinstrahlung_300cm', 'PPFDAusstrahlung_300cm', 'Bodenwaermefluss',\n",
      "       'Luftdruck', 'Lufttemperatur_40cm', 'Lufttemperatur_200cm',\n",
      "       'RelativeFeuchte_40cm', 'RelativeFeuchte_200cm',\n",
      "       'Wasserdampfdruck_200cm', 'Wasserdampfdefizit_200cm',\n",
      "       'Niederschlag_I_155cm', 'Niederschlag_II_150cm', 'Windgeschw_380cm',\n",
      "       'Windrichtung_380cm', 'Bodentemp_30cm_1', 'Bodentemp_30cm_2',\n",
      "       'Bodentemp_30cm_3', 'Bodenfeuchte_30cm_1', 'Bodenfeuchte_30cm_2',\n",
      "       'Bodenfeuchte_30cm_3', 'kurzwAusstrahlung', 'kurzwEinstrahlung'],\n",
      "      dtype='object')\n"
     ]
    }
   ],
   "source": [
    "for df in dfs:\n",
    "    print(df.columns)"
   ]
  },
  {
   "cell_type": "code",
   "execution_count": null,
   "metadata": {},
   "outputs": [],
   "source": []
  }
 ],
 "metadata": {
  "kernelspec": {
   "display_name": "ebc-project",
   "language": "python",
   "name": "python3"
  },
  "language_info": {
   "codemirror_mode": {
    "name": "ipython",
    "version": 3
   },
   "file_extension": ".py",
   "mimetype": "text/x-python",
   "name": "python",
   "nbconvert_exporter": "python",
   "pygments_lexer": "ipython3",
   "version": "3.11.5"
  }
 },
 "nbformat": 4,
 "nbformat_minor": 2
}
