{
 "cells": [
  {
   "cell_type": "code",
   "execution_count": 44,
   "metadata": {},
   "outputs": [],
   "source": [
    "import numpy as np\n",
    "import matplotlib.pyplot as plt\n",
    "import pandas as pd"
   ]
  },
  {
   "cell_type": "code",
   "execution_count": 54,
   "metadata": {},
   "outputs": [],
   "source": [
    "# have a first look at the files\n",
    "# drop first column because it just has the unit in it\n",
    "fluxes_fbg = pd.read_csv(\"EddyCovarianceData/eng/FBG_fluxes_30min_20240401_20240608_eng.csv\").drop(0)\n",
    "fluxes_goew = pd.read_csv(\"EddyCovarianceData/eng/GoeW_fluxes_30min_20240401_20240608_eng.csv\").drop(0)\n",
    "meteo_fbg = pd.read_csv(\"MeteorologicalData/eng/FBG_meteo_30min_20240401_20240608_eng.csv\").drop(0)\n",
    "meteo_goew = pd.read_csv(\"MeteorologicalData/eng/GoeW_meteo_30min_20240401_20240608_eng.csv\").drop(0)\n"
   ]
  },
  {
   "cell_type": "markdown",
   "metadata": {},
   "source": [
    "Check if data formats are consistent for fbg and goew"
   ]
  },
  {
   "cell_type": "code",
   "execution_count": 55,
   "metadata": {},
   "outputs": [
    {
     "name": "stdout",
     "output_type": "stream",
     "text": [
      "<class 'pandas.core.frame.DataFrame'>\n",
      "RangeIndex: 3263 entries, 1 to 3263\n",
      "Data columns (total 16 columns):\n",
      " #   Column           Non-Null Count  Dtype \n",
      "---  ------           --------------  ----- \n",
      " 0   TIMESTAMP_START  3263 non-null   object\n",
      " 1   TIMESTAMP_MID    3263 non-null   object\n",
      " 2   TIMESTAMP_END    3263 non-null   object\n",
      " 3   H_orig           1820 non-null   object\n",
      " 4   H_f              3263 non-null   object\n",
      " 5   LE_orig          1749 non-null   object\n",
      " 6   LE_f             3263 non-null   object\n",
      " 7   ET_orig          1749 non-null   object\n",
      " 8   ET_f             3263 non-null   object\n",
      " 9   CO2              1701 non-null   object\n",
      " 10  H2O              1711 non-null   object\n",
      " 11  NEE_orig         1712 non-null   object\n",
      " 12  NEE_f            3263 non-null   object\n",
      " 13  Reco             3263 non-null   object\n",
      " 14  GPP_f            3263 non-null   object\n",
      " 15  Ustar            3261 non-null   object\n",
      "dtypes: object(16)\n",
      "memory usage: 408.0+ KB\n",
      "None\n",
      "<class 'pandas.core.frame.DataFrame'>\n",
      "RangeIndex: 3263 entries, 1 to 3263\n",
      "Data columns (total 16 columns):\n",
      " #   Column           Non-Null Count  Dtype \n",
      "---  ------           --------------  ----- \n",
      " 0   TIMESTAMP_START  3263 non-null   object\n",
      " 1   TIMESTAMP_MID    3263 non-null   object\n",
      " 2   TIMESTAMP_END    3263 non-null   object\n",
      " 3   H_orig           2766 non-null   object\n",
      " 4   H_f              3263 non-null   object\n",
      " 5   LE_orig          2518 non-null   object\n",
      " 6   LE_f             3263 non-null   object\n",
      " 7   ET_orig          2518 non-null   object\n",
      " 8   ET_f             3263 non-null   object\n",
      " 9   CO2              2600 non-null   object\n",
      " 10  H2O              2598 non-null   object\n",
      " 11  NEE_orig         2485 non-null   object\n",
      " 12  NEE_f            3263 non-null   object\n",
      " 13  Reco             3263 non-null   object\n",
      " 14  GPP_f            3263 non-null   object\n",
      " 15  Ustar            3178 non-null   object\n",
      "dtypes: object(16)\n",
      "memory usage: 408.0+ KB\n",
      "None\n"
     ]
    }
   ],
   "source": [
    "print(fluxes_fbg.info())\n",
    "print(fluxes_goew.info())"
   ]
  },
  {
   "cell_type": "markdown",
   "metadata": {},
   "source": [
    "The meteo data seems perfectly consistent."
   ]
  },
  {
   "cell_type": "code",
   "execution_count": 56,
   "metadata": {},
   "outputs": [
    {
     "name": "stdout",
     "output_type": "stream",
     "text": [
      "<class 'pandas.core.frame.DataFrame'>\n",
      "RangeIndex: 3264 entries, 1 to 3264\n",
      "Data columns (total 26 columns):\n",
      " #   Column                            Non-Null Count  Dtype \n",
      "---  ------                            --------------  ----- \n",
      " 0   TIMESTAMP_START                   3264 non-null   object\n",
      " 1   TIMESTAMP_MID                     3264 non-null   object\n",
      " 2   TIMESTAMP_END                     3264 non-null   object\n",
      " 3   incomingShortwaveRadiation_300cm  3264 non-null   object\n",
      " 4   outgoingShortwaveRadiation_300cm  3264 non-null   object\n",
      " 5   netRadiation_300cm                3264 non-null   object\n",
      " 6   incomingPPFD_300cm                3264 non-null   object\n",
      " 7   outgoingPPFD_300cm                3264 non-null   object\n",
      " 8   soilHeatFlux                      3264 non-null   object\n",
      " 9   airPressure                       3264 non-null   object\n",
      " 10  airTemperature_40cm               3264 non-null   object\n",
      " 11  airTemperature_200cm              3264 non-null   object\n",
      " 12  relHumidity_40cm                  3264 non-null   object\n",
      " 13  relHumidity_200cm                 3264 non-null   object\n",
      " 14  VaporPressure_200cm               3264 non-null   object\n",
      " 15  VaporPressureDeficit_200cm        3264 non-null   object\n",
      " 16  Precipitation_I_150cm             3264 non-null   object\n",
      " 17  Precipitation_II_150cm            3264 non-null   object\n",
      " 18  WindVelocity_380cm                3264 non-null   object\n",
      " 19  WindDirection_380cm               3264 non-null   object\n",
      " 20  soilTemperature_1_30cm            3264 non-null   object\n",
      " 21  soilTemperature_2_30cm            3264 non-null   object\n",
      " 22  soilTemperature_3_30cm            2742 non-null   object\n",
      " 23  soilMoisture_1_30cm               3264 non-null   object\n",
      " 24  soilMoisture_2_30cm               3264 non-null   object\n",
      " 25  soilMoisture_3_30cm               2742 non-null   object\n",
      "dtypes: object(26)\n",
      "memory usage: 663.1+ KB\n",
      "None\n",
      "<class 'pandas.core.frame.DataFrame'>\n",
      "RangeIndex: 3264 entries, 1 to 3264\n",
      "Data columns (total 37 columns):\n",
      " #   Column                          Non-Null Count  Dtype \n",
      "---  ------                          --------------  ----- \n",
      " 0   TIMESTAMP_START                 3264 non-null   object\n",
      " 1   TIMESTAMP_MID                   3264 non-null   object\n",
      " 2   TIMESTAMP_END                   3264 non-null   object\n",
      " 3   incomingShortwaveRadiation_43m  3263 non-null   object\n",
      " 4   outgoingShortwaveRadiation_43m  3263 non-null   object\n",
      " 5   incomingLongwaveRadiation_43m   3263 non-null   object\n",
      " 6   outgoingLongwaveRadiation_43m   3263 non-null   object\n",
      " 7   airPressure_43m                 3264 non-null   object\n",
      " 8   airTemperature_2m               3102 non-null   object\n",
      " 9   airTemperature_43m              3264 non-null   object\n",
      " 10  relHumidity_2m                  3260 non-null   object\n",
      " 11  relHumidity_43m                 3264 non-null   object\n",
      " 12  VaporPressure_43m               3264 non-null   object\n",
      " 13  VaporPressureDeficit_43m        3264 non-null   object\n",
      " 14  Precipitation_43m               3264 non-null   object\n",
      " 15  belowcanopyPrecipitation_1m     3264 non-null   object\n",
      " 16  WindVelocity_I_43m              3261 non-null   object\n",
      " 17  WindVelocity_II_43m             3264 non-null   object\n",
      " 18  WindDirection_43m               3264 non-null   object\n",
      " 19  soilTemperature_1_5cm           3257 non-null   object\n",
      " 20  soilTemperature_2_5cm           3257 non-null   object\n",
      " 21  soilTemperature_3_5cm           3257 non-null   object\n",
      " 22  soilTemperature_1_15cm          3257 non-null   object\n",
      " 23  soilTemperature_2_15cm          3257 non-null   object\n",
      " 24  soilTemperature_3_15cm          3257 non-null   object\n",
      " 25  soilTemperature_1_30cm          3257 non-null   object\n",
      " 26  soilTemperature_2_30cm          3257 non-null   object\n",
      " 27  soilTemperature_3_30cm          3257 non-null   object\n",
      " 28  soilMoisture_1_5cm              3257 non-null   object\n",
      " 29  soilMoisture_2_5cm              3257 non-null   object\n",
      " 30  soilMoisture_3_5cm              3257 non-null   object\n",
      " 31  soilMoisture_1_15cm             3257 non-null   object\n",
      " 32  soilMoisture_2_15cm             3257 non-null   object\n",
      " 33  soilMoisture_3_15cm             3257 non-null   object\n",
      " 34  soilMoisture_1_30cm             3257 non-null   object\n",
      " 35  soilMoisture_2_30cm             3257 non-null   object\n",
      " 36  soilMoisture_3_30cm             3257 non-null   object\n",
      "dtypes: object(37)\n",
      "memory usage: 943.6+ KB\n",
      "None\n"
     ]
    }
   ],
   "source": [
    "print(meteo_fbg.info())\n",
    "print(meteo_goew.info())"
   ]
  },
  {
   "cell_type": "markdown",
   "metadata": {},
   "source": [
    "The meteo data is a bit different for FBG and Goew. Specifically:\n",
    "- The Goew FBG data does not contain longwave radiation. This is not a problem since we only need the net radiation.\n",
    "- For the FBG data, the soil heat flux is missing. Instead, the soil moisture and temperature are measured at different heights which can be used to calculate the soil heat flux.\n",
    "\n",
    "Overall it seems like all the data that is needed to calculate the Energy Balance Closure is there."
   ]
  },
  {
   "cell_type": "code",
   "execution_count": 65,
   "metadata": {},
   "outputs": [],
   "source": [
    "# do some preprocessing on the data\n",
    "def process_fluxes(df):\n",
    "    \"\"\"Convert timestamp columns to date and time\n",
    "       Adjust dtypes of relevant columns\n",
    "\n",
    "    Args:\n",
    "        df (_type_): _description_\n",
    "    \"\"\"\n",
    "    df[\"DATE_START\"] = pd.to_datetime(df[\"TIMESTAMP_START\"].str.split(\" \").str[0])\n",
    "    df[\"TIME_START\"] = df[\"TIMESTAMP_START\"].str.split(\" \").str[1]\n",
    "    df[\"DATE_MID\"] = pd.to_datetime(df[\"TIMESTAMP_MID\"].str.split(\" \").str[0])\n",
    "    df[\"TIME_MID\"] = df[\"TIMESTAMP_MID\"].str.split(\" \").str[1]\n",
    "    df[\"DATE_END\"] = pd.to_datetime(df[\"TIMESTAMP_END\"].str.split(\" \").str[0])\n",
    "    df[\"TIME_END\"] = df[\"TIMESTAMP_END\"].str.split(\" \").str[1]\n",
    "    # df = df.drop([\"TIMESTAMP_START\", \"TIMESTAMP_MID\", \"TIMESTAMP_END\"], axis=1)\n",
    "    df[\"H_f\"] = df[\"H_f\"].astype(float)\n",
    "    df[\"LE_f\"] = df[\"LE_f\"].astype(float)\n",
    "    df[\"NEE_f\"] = df[\"NEE_f\"].astype(float)\n",
    "    return df\n",
    "\n",
    "\n",
    "fluxes_fbg = process_fluxes(fluxes_fbg)\n",
    "fluxes_goew = process_fluxes(fluxes_goew)\n",
    "\n",
    "# for meteo data do it separately\n",
    "meteo_fbg[\"DATE_START\"] = pd.to_datetime(meteo_fbg[\"TIMESTAMP_START\"].str.split(\" \").str[0])\n",
    "meteo_fbg[\"TIME_START\"] = meteo_fbg[\"TIMESTAMP_START\"].str.split(\" \").str[1]\n",
    "meteo_fbg[\"DATE_MID\"] = pd.to_datetime(meteo_fbg[\"TIMESTAMP_MID\"].str.split(\" \").str[0])\n",
    "meteo_fbg[\"TIME_MID\"] = meteo_fbg[\"TIMESTAMP_MID\"].str.split(\" \").str[1]\n",
    "meteo_fbg[\"DATE_END\"] = pd.to_datetime(meteo_fbg[\"TIMESTAMP_END\"].str.split(\" \").str[0])\n",
    "meteo_fbg[\"TIME_END\"] = meteo_fbg[\"TIMESTAMP_END\"].str.split(\" \").str[1]\n",
    "meteo_fbg[\"netRadiation_300cm\"] = meteo_fbg[\"netRadiation_300cm\"].astype(float)\n",
    "meteo_fbg[\"soilHeatFlux\"] = meteo_fbg[\"soilHeatFlux\"].astype(float)\n",
    "\n",
    "\n",
    "meteo_goew[\"DATE_START\"] = pd.to_datetime(meteo_goew[\"TIMESTAMP_START\"].str.split(\" \").str[0])\n",
    "meteo_goew[\"TIME_START\"] = meteo_goew[\"TIMESTAMP_START\"].str.split(\" \").str[1]\n",
    "meteo_goew[\"DATE_MID\"] = pd.to_datetime(meteo_goew[\"TIMESTAMP_MID\"].str.split(\" \").str[0])\n",
    "meteo_goew[\"TIME_MID\"] = meteo_goew[\"TIMESTAMP_MID\"].str.split(\" \").str[1]\n",
    "meteo_goew[\"DATE_END\"] = pd.to_datetime(meteo_goew[\"TIMESTAMP_END\"].str.split(\" \").str[0])\n",
    "meteo_goew[\"TIME_END\"] = meteo_goew[\"TIMESTAMP_END\"].str.split(\" \").str[1]\n",
    "meteo_goew[\"incomingLongwaveRadiation_43m\"] = meteo_goew[\"incomingLongwaveRadiation_43m\"].astype(float)\n",
    "meteo_goew[\"incomingShortwaveRadiation_43m\"] = meteo_goew[\"incomingShortwaveRadiation_43m\"].astype(float)\n",
    "meteo_goew[\"outgoingLongwaveRadiation_43m\"] = meteo_goew[\"outgoingLongwaveRadiation_43m\"].astype(float)\n",
    "meteo_goew[\"outgoingShortwaveRadiation_43m\"] = meteo_goew[\"outgoingShortwaveRadiation_43m\"].astype(float)\n",
    "meteo_goew[\"soilMoisture_1_15cm\"] = meteo_goew[\"soilMoisture_1_15cm\"].astype(float)\n",
    "meteo_goew[\"soilMoisture_1_30cm\"] = meteo_goew[\"soilMoisture_1_30cm\"].astype(float)\n",
    "meteo_goew[\"soilMoisture_1_5cm\"] = meteo_goew[\"soilMoisture_1_5cm\"].astype(float)\n",
    "meteo_goew[\"soilMoisture_2_15cm\"] = meteo_goew[\"soilMoisture_2_15cm\"].astype(float)\n",
    "meteo_goew[\"soilMoisture_2_30cm\"] = meteo_goew[\"soilMoisture_2_30cm\"].astype(float)\n",
    "meteo_goew[\"soilMoisture_2_5cm\"] = meteo_goew[\"soilMoisture_2_5cm\"].astype(float)\n",
    "meteo_goew[\"soilMoisture_3_15cm\"] = meteo_goew[\"soilMoisture_3_15cm\"].astype(float)\n",
    "meteo_goew[\"soilMoisture_3_30cm\"] = meteo_goew[\"soilMoisture_3_30cm\"].astype(float)\n",
    "meteo_goew[\"soilMoisture_3_5cm\"] = meteo_goew[\"soilMoisture_3_5cm\"].astype(float)\n",
    "meteo_goew[\"soilTemperature_1_15cm\"] = meteo_goew[\"soilTemperature_1_15cm\"].astype(float)\n",
    "meteo_goew[\"soilTemperature_1_30cm\"] = meteo_goew[\"soilTemperature_1_30cm\"].astype(float)\n",
    "meteo_goew[\"soilTemperature_1_5cm\"] = meteo_goew[\"soilTemperature_1_5cm\"].astype(float)\n",
    "meteo_goew[\"soilTemperature_2_15cm\"] = meteo_goew[\"soilTemperature_2_15cm\"].astype(float)\n",
    "meteo_goew[\"soilTemperature_2_30cm\"] = meteo_goew[\"soilTemperature_2_30cm\"].astype(float)\n",
    "meteo_goew[\"soilTemperature_2_5cm\"] = meteo_goew[\"soilTemperature_2_5cm\"].astype(float)\n",
    "meteo_goew[\"soilTemperature_3_15cm\"] = meteo_goew[\"soilTemperature_3_15cm\"].astype(float)\n",
    "meteo_goew[\"soilTemperature_3_30cm\"] = meteo_goew[\"soilTemperature_3_30cm\"].astype(float)\n",
    "meteo_goew[\"soilTemperature_3_5cm\"] = meteo_goew[\"soilTemperature_3_5cm\"].astype(float)\n",
    "\n",
    "# calculate net radiation\n",
    "meteo_goew[\"netRadiation_43m\"] = meteo_goew[\"incomingShortwaveRadiation_43m\"] + meteo_goew[\"outgoingShortwaveRadiation_43m\"]\n",
    "\n"
   ]
  },
  {
   "cell_type": "code",
   "execution_count": 66,
   "metadata": {},
   "outputs": [
    {
     "name": "stdout",
     "output_type": "stream",
     "text": [
      "2024-04-01 00:00:00\n",
      "2024-06-07 00:00:00\n",
      "2024-04-01 00:00:00\n",
      "2024-06-07 00:00:00\n"
     ]
    }
   ],
   "source": [
    "# check that data covers the same dates\n",
    "print(meteo_fbg[\"DATE_START\"].min())\n",
    "print(meteo_goew[\"DATE_START\"].max())\n",
    "print(fluxes_fbg[\"DATE_START\"].min())\n",
    "print(fluxes_goew[\"DATE_START\"].max())"
   ]
  },
  {
   "cell_type": "code",
   "execution_count": 84,
   "metadata": {},
   "outputs": [
    {
     "data": {
      "text/plain": [
       "<Axes: >"
      ]
     },
     "execution_count": 84,
     "metadata": {},
     "output_type": "execute_result"
    },
    {
     "data": {
      "image/png": "[encoded data removed]",
      "text/plain": [
       "<Figure size 1200x800 with 8 Axes>"
      ]
     },
     "metadata": {},
     "output_type": "display_data"
    }
   ],
   "source": [
    "fig, axs = plt.subplots(4, 2, figsize=(12,8))\n",
    "# check for outliers\n",
    "meteo_goew.boxplot(column=\"netRadiation_43m\", ax=axs[0, 0])\n",
    "meteo_fbg.boxplot(column=\"netRadiation_300cm\", ax=axs[0, 1])\n",
    "meteo_fbg.boxplot(column=\"soilHeatFlux\", ax = axs[1, 0])\n",
    "meteo_goew.boxplot(column=\"soilTemperature_1_15cm\", ax=axs[1, 1])\n",
    "meteo_goew.boxplot(column=\"soilMoisture_1_15cm\", ax=axs[2, 0])\n",
    "fluxes_goew.boxplot(column=\"H_f\", ax=axs[2, 1])\n",
    "fluxes_fbg.boxplot(column=\"H_f\", ax=axs[3, 0])\n",
    "fluxes_goew.boxplot(column=\"H_f\", ax=axs[3, 1])\n",
    "\n",
    "\n"
   ]
  },
  {
   "cell_type": "code",
   "execution_count": null,
   "metadata": {},
   "outputs": [],
   "source": []
  }
 ],
 "metadata": {
  "kernelspec": {
   "display_name": "ebc-project",
   "language": "python",
   "name": "python3"
  },
  "language_info": {
   "codemirror_mode": {
    "name": "ipython",
    "version": 3
   },
   "file_extension": ".py",
   "mimetype": "text/x-python",
   "name": "python",
   "nbconvert_exporter": "python",
   "pygments_lexer": "ipython3",
   "version": "3.11.5"
  }
 },
 "nbformat": 4,
 "nbformat_minor": 2
}
