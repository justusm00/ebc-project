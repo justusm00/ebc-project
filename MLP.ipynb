{
 "cells": [
  {
   "cell_type": "markdown",
   "metadata": {},
   "source": [
    "This notebook is used to predict missing Flux-data for Göttingen forest and the forst bothanical garden.  \n",
    "The approach used is an MLP. Be careful to adjust how many cpu cores u want to use during training!"
   ]
  },
  {
   "cell_type": "code",
   "execution_count": 9,
   "metadata": {},
   "outputs": [],
   "source": [
    "# important  imports\n",
    "import os\n",
    "import time\n",
    "\n",
    "import numpy as np\n",
    "import pandas as pd\n",
    "import seaborn as sns\n",
    "import matplotlib.pyplot as plt\n",
    "\n",
    "import torch\n",
    "import torch.nn as nn\n",
    "import torch.optim as optim\n",
    "import torch.nn.functional as F\n",
    "from torch.utils.data import Dataset, DataLoader\n",
    "import fastprogress\n",
    "\n",
    "from sklearn.preprocessing import MinMaxScaler\n"
   ]
  },
  {
   "cell_type": "code",
   "execution_count": 23,
   "metadata": {},
   "outputs": [
    {
     "name": "stdout",
     "output_type": "stream",
     "text": [
      "16 CPUs available, 0 were assigned\n",
      "cuda available: True ; cudnn available: True ; num devices: 1\n",
      "Using device NVIDIA GeForce RTX 3070\n"
     ]
    }
   ],
   "source": [
    "# Get number of cpus to use for faster parallelized data loading\n",
    "avb_cpus = os.cpu_count()\n",
    "num_cpus = 0\n",
    "print(avb_cpus, 'CPUs available,', num_cpus, 'were assigned' )\n",
    "\n",
    "# Device loader from Deep Learning\n",
    "\n",
    "######## SPECIFY IF YOU DONT WANT TO USE CUDA (GPU) ###########\n",
    "def get_device(cuda_preference=True):\n",
    "    \"\"\"Gets pytorch device object. If cuda_preference=True and \n",
    "        cuda is available on your system, returns a cuda device.\n",
    "    \n",
    "    Args:\n",
    "        cuda_preference: bool, default True\n",
    "            Set to true if you would like to get a cuda device\n",
    "            \n",
    "    Returns: pytorch device object\n",
    "            Pytorch device\n",
    "    \"\"\"\n",
    "    \n",
    "    print('cuda available:', torch.cuda.is_available(), \n",
    "          '; cudnn available:', torch.backends.cudnn.is_available(),\n",
    "          '; num devices:', torch.cuda.device_count())\n",
    "    \n",
    "    use_cuda = False if not cuda_preference else torch.cuda.is_available()\n",
    "    device = torch.device('cuda:0' if use_cuda else 'cpu')\n",
    "    device_name = torch.cuda.get_device_name(device) if use_cuda else 'cpu'\n",
    "    print('Using device', device_name)\n",
    "    return device\n",
    "\n",
    "device = get_device()"
   ]
  },
  {
   "cell_type": "markdown",
   "metadata": {},
   "source": [
    "#  Utilites"
   ]
  },
  {
   "cell_type": "code",
   "execution_count": 24,
   "metadata": {},
   "outputs": [],
   "source": [
    "############# UTILITIES ############\n",
    "\n",
    "from modules.util import EBCDataset, grab_data, train_val_test_splitter, data_loaders"
   ]
  },
  {
   "cell_type": "markdown",
   "metadata": {},
   "source": [
    "# Training Functions"
   ]
  },
  {
   "cell_type": "code",
   "execution_count": 25,
   "metadata": {},
   "outputs": [],
   "source": [
    "############# TRAINING FUNCTIONS ###############\n",
    "\n",
    "# Define validation metric\n",
    "def prediction_error(y, y_pred): \n",
    "    #return abs(y - y_pred)\n",
    "    return 0\n",
    "\n",
    "\n",
    "\n",
    "\n",
    "def train(dataloader, optimizer, model, master_bar, device, loss_fn = nn.MSELoss()):\n",
    "    \"\"\"Run one training epoch.\n",
    "\n",
    "    Args:\n",
    "        dataloade: dataloader containing trainingdata\n",
    "        optimizer: Torch optimizer object\n",
    "        model: the model that is trained\n",
    "        loss_fn: the loss function to be used -> nn.MSELoss()\n",
    "        master_bar: Will be iterated over for each\n",
    "            epoch to draw batches and display training progress\n",
    "\n",
    "    Returns:\n",
    "        Mean epoch loss and accuracy\n",
    "    \"\"\"\n",
    "    loss = []\n",
    "    total_prediction_error = 0\n",
    "\n",
    "    for x, y in fastprogress.progress_bar(dataloader, parent=master_bar):\n",
    "        # Reset optimmizers\n",
    "        optimizer.zero_grad()\n",
    "        model.train()\n",
    "\n",
    "        # Forward pass\n",
    "        y_pred = model(x.to(device))\n",
    "\n",
    "        # For calculating the prediction error, add the distance between y and y_pred\n",
    "        # to the total error\n",
    "        #total_prediction_error += prediction_error(y, y_pred)\n",
    "\n",
    "        # Compute loss\n",
    "        epoch_loss = loss_fn(y_pred, y.to(device))\n",
    "\n",
    "        # Backward pass\n",
    "        epoch_loss.backward()\n",
    "        optimizer.step()\n",
    "\n",
    "        # For plotting the train loss, save it for each sample\n",
    "        loss.append(epoch_loss.item())\n",
    "\n",
    "    # Return the mean loss and the accuracy of this epoch\n",
    "    return np.mean(loss), total_prediction_error\n",
    "\n",
    "\n",
    "\n",
    "\n",
    "\n",
    "def validate(dataloader, model, master_bar, device, loss_fn=nn.MSELoss()):\n",
    "    \"\"\"Compute loss and total prediction error on validation set.\n",
    "\n",
    "    Args:\n",
    "        dataloader: dataloader containing validation data\n",
    "        model (nn.Module): the model to train\n",
    "        loss_fn: the loss function to be used, defaults to MSELoss\n",
    "        master_bar (fastprogress.master_bar): Will be iterated over to draw \n",
    "            batches and show validation progress\n",
    "\n",
    "    Returns:\n",
    "        Mean loss and total prediction error on validation set\n",
    "    \"\"\"\n",
    "    epoch_loss = []\n",
    "    total_prediction_error = 0  \n",
    "\n",
    "    model.eval()\n",
    "    with torch.no_grad():\n",
    "        for x, y in fastprogress.progress_bar(dataloader, parent=master_bar):\n",
    "            # make a prediction on validation set\n",
    "            y_pred = model(x.to(device))\n",
    "\n",
    "            # For calculating the prediction error, add the distance between y and y_pred\n",
    "            # to the total error\n",
    "            #total_prediction_error += prediction_error(y, y_pred)\n",
    "\n",
    "            # Compute loss\n",
    "            loss = loss_fn(y_pred, y.to(device))\n",
    "\n",
    "            # For plotting the train loss, save it for each sample\n",
    "            epoch_loss.append(loss.item())\n",
    "\n",
    "    # Return the mean loss, the accuracy and the confusion matrix\n",
    "    return np.mean(epoch_loss), total_prediction_error\n",
    "\n",
    "\n",
    "\n",
    "\n",
    "\n",
    "def plot(title, label, train_results, val_results, yscale='linear', save_path=None):\n",
    "    \"\"\"Plot learning curves.\n",
    "\n",
    "    Args:\n",
    "        title: Title of plot\n",
    "        label: y-axis label\n",
    "        train_results: Vector containing training results over epochs\n",
    "        val_results: vector containing validation results over epochs\n",
    "        yscale: Defines how the y-axis scales\n",
    "        save_path: Optional path for saving file\n",
    "    \"\"\"\n",
    "    \n",
    "    epochs = np.arange(len(train_results)) + 1\n",
    "    \n",
    "    sns.set(style='ticks')\n",
    "\n",
    "    plt.plot(epochs, train_results, epochs, val_results, linestyle='dashed', marker='o')\n",
    "    legend = ['Train results', 'Validation results']\n",
    "        \n",
    "    plt.legend(legend)\n",
    "    plt.xlabel('Epoch')\n",
    "    plt.ylabel(label)\n",
    "    plt.yscale(yscale)\n",
    "    plt.title(title)\n",
    "    \n",
    "    sns.despine(trim=True, offset=5)\n",
    "    plt.title(title, fontsize=15)\n",
    "    if save_path:\n",
    "        plt.savefig(str(os.path.join( save_path , label+\".png\")), bbox_inches='tight')\n",
    "    plt.show()\n",
    "\n",
    "\n",
    "\n",
    "\n",
    "\n",
    "\n",
    "\n",
    "def run_training(model, optimizer, num_epochs, train_dataloader, val_dataloader, device, \n",
    "                 loss_fn=nn.MSELoss(), verbose=False):\n",
    "    \"\"\"Run model training.\n",
    "\n",
    "    Args:\n",
    "        model: The model to be trained\n",
    "        optimizer: The optimizer used during training\n",
    "        loss_fn: Torch loss function for training -> nn.MSELoss()\n",
    "        num_epochs: How many epochs the model is trained for\n",
    "        train_dataloader:  dataloader containing training data\n",
    "        val_dataloader: dataloader containing validation data\n",
    "        verbose: Whether to print information on training progress\n",
    "\n",
    "    Returns:\n",
    "        lists containing  losses and total prediction errors per epoch for training and validation\n",
    "    \"\"\"\n",
    "    start_time = time.time()\n",
    "    master_bar = fastprogress.master_bar(range(num_epochs))\n",
    "    train_losses, val_losses, train_tpes, val_tpes = [],[],[],[]\n",
    "\n",
    "    for epoch in master_bar:\n",
    "        # Train the model\n",
    "        epoch_train_loss, epoch_train_tpe = train(dataloader=train_dataloader, optimizer=optimizer, model=model, \n",
    "                                                 master_bar=master_bar, device=device, loss_fn=loss_fn)\n",
    "        # Validate the model\n",
    "        epoch_val_loss, epoch_val_tpe = validate(val_dataloader, model, master_bar, device, loss_fn)\n",
    "\n",
    "        # Save loss and acc for plotting\n",
    "        train_losses.append(epoch_train_loss)\n",
    "        val_losses.append(epoch_val_loss)\n",
    "        train_tpes.append(epoch_train_tpe)\n",
    "        val_tpes.append(epoch_val_tpe)\n",
    "        \n",
    "        if verbose:\n",
    "            master_bar.write(f'Train loss: {epoch_train_loss:.2f}, val loss: {epoch_val_loss:.2f}, train acc: {epoch_train_tpe:.3f}, val acc {epoch_val_tpe:.3f}')\n",
    "\n",
    "    time_elapsed = np.round(time.time() - start_time, 0).astype(int)\n",
    "    print(f'Finished training after {time_elapsed} seconds.')\n",
    "\n",
    "    plot(\"Loss\", \"Loss\", train_losses, val_losses)\n",
    "    #plot(\"TPE\", \"TPE\", train_tpes, val_tpes)\n",
    "\n",
    "    return train_losses, val_losses, train_tpes, val_tpes"
   ]
  },
  {
   "cell_type": "markdown",
   "metadata": {},
   "source": [
    "# The Multilayer Perceptron"
   ]
  },
  {
   "cell_type": "code",
   "execution_count": 26,
   "metadata": {},
   "outputs": [],
   "source": [
    "from modules.models import MLP\n",
    "from columns import COLS_FEATURES, COLS_LABELS, PATH"
   ]
  },
  {
   "cell_type": "markdown",
   "metadata": {},
   "source": [
    "# The Training"
   ]
  },
  {
   "cell_type": "code",
   "execution_count": 27,
   "metadata": {},
   "outputs": [
    {
     "name": "stdout",
     "output_type": "stream",
     "text": [
      "tensor([7081.9624, 4335.7935])\n"
     ]
    }
   ],
   "source": [
    "# Collect data and create data loaders\n",
    "# if COLS_METEO and COLS_FLUXES are changed make sure to run the preprocessing pipeline first\n",
    "dataset, num_data, num_labels = grab_data('data/training_data_merged.csv', COLS_FEATURES, COLS_LABELS)\n",
    "\n",
    "trainset, valset, testset = train_val_test_splitter(dataset)\n",
    "\n",
    "\n",
    "# normalize features based on trainset statistics only\n",
    "# trainset_mean = torch.mean(trainset.dataset.dataset.data, dim=0)\n",
    "# trainset_std = torch.std(trainset.dataset.dataset.data, dim=0)\n",
    "\n",
    "# trainset.dataset.dataset.data = (trainset.dataset.dataset.data - trainset_mean) / trainset_std ** 2\n",
    "# valset.dataset.dataset.data = (valset.dataset.dataset.data - trainset_mean) / trainset_std ** 2\n",
    "# testset.dataset.data = (trainset.dataset.dataset.data - trainset_mean) / trainset_std ** 2\n",
    "\n",
    "labels_std = torch.std(trainset.dataset.dataset.labels, dim=0)\n",
    "print(labels_std**2)\n",
    "\n",
    "trainloader, valloader, testloader = data_loaders(trainset, valset, testset, num_cpus=num_cpus, batch_size=10)"
   ]
  },
  {
   "cell_type": "code",
   "execution_count": 21,
   "metadata": {},
   "outputs": [
    {
     "data": {
      "text/html": [
       "\n",
       "<style>\n",
       "    /* Turns off some styling */\n",
       "    progress {\n",
       "        /* gets rid of default border in Firefox and Opera. */\n",
       "        border: none;\n",
       "        /* Needs to be in here for Safari polyfill so background images work as expected. */\n",
       "        background-size: auto;\n",
       "    }\n",
       "    progress:not([value]), progress:not([value])::-webkit-progress-bar {\n",
       "        background: repeating-linear-gradient(45deg, #7e7e7e, #7e7e7e 10px, #5c5c5c 10px, #5c5c5c 20px);\n",
       "    }\n",
       "    .progress-bar-interrupted, .progress-bar-interrupted::-webkit-progress-bar {\n",
       "        background: #F44336;\n",
       "    }\n",
       "</style>\n"
      ],
      "text/plain": [
       "<IPython.core.display.HTML object>"
      ]
     },
     "metadata": {},
     "output_type": "display_data"
    },
    {
     "data": {
      "text/html": [
       "Train loss: 7785.88, val loss: 7323.74, train acc: 0.000, val acc 0.000"
      ],
      "text/plain": [
       "<IPython.core.display.HTML object>"
      ]
     },
     "metadata": {},
     "output_type": "display_data"
    },
    {
     "name": "stdout",
     "output_type": "stream",
     "text": [
      "Finished training after 17 seconds.\n"
     ]
    },
    {
     "data": {
      "image/png": "[encoded data removed]",
      "text/plain": [
       "<Figure size 640x480 with 1 Axes>"
      ]
     },
     "metadata": {},
     "output_type": "display_data"
    }
   ],
   "source": [
    "# run single epoch with very low learning rate to check if initial loss is higher than label variance (it should be)\n",
    "# Initialize the model\n",
    "model = MLP(num_data, num_labels, num_hidden_units=30, num_hidden_layers=4).to(device)\n",
    "# Set loss function and optimizer\n",
    "criterion = nn.MSELoss()\n",
    "lr = 10**(-5)\n",
    "optimizer = optim.Adam(model.parameters(), lr=lr)\n",
    "\n",
    "num_epochs = 1\n",
    "\n",
    "train_losses, val_losses, train_tpes, val_tpes = run_training(model=model, optimizer=optimizer, num_epochs=num_epochs, train_dataloader=trainloader, val_dataloader=valloader, \n",
    "                                                              device=device, loss_fn=criterion, verbose=True)"
   ]
  },
  {
   "cell_type": "markdown",
   "metadata": {},
   "source": [
    "Should one model per location be used?"
   ]
  },
  {
   "cell_type": "code",
   "execution_count": 30,
   "metadata": {},
   "outputs": [
    {
     "data": {
      "text/html": [
       "\n",
       "<style>\n",
       "    /* Turns off some styling */\n",
       "    progress {\n",
       "        /* gets rid of default border in Firefox and Opera. */\n",
       "        border: none;\n",
       "        /* Needs to be in here for Safari polyfill so background images work as expected. */\n",
       "        background-size: auto;\n",
       "    }\n",
       "    progress:not([value]), progress:not([value])::-webkit-progress-bar {\n",
       "        background: repeating-linear-gradient(45deg, #7e7e7e, #7e7e7e 10px, #5c5c5c 10px, #5c5c5c 20px);\n",
       "    }\n",
       "    .progress-bar-interrupted, .progress-bar-interrupted::-webkit-progress-bar {\n",
       "        background: #F44336;\n",
       "    }\n",
       "</style>\n"
      ],
      "text/plain": [
       "<IPython.core.display.HTML object>"
      ]
     },
     "metadata": {},
     "output_type": "display_data"
    },
    {
     "data": {
      "text/html": [
       "Train loss: 2084.91, val loss: 1568.20, train acc: 0.000, val acc 0.000<p>Train loss: 1463.58, val loss: 1400.43, train acc: 0.000, val acc 0.000<p>Train loss: 1311.88, val loss: 1231.46, train acc: 0.000, val acc 0.000<p>Train loss: 1210.46, val loss: 1204.82, train acc: 0.000, val acc 0.000<p>Train loss: 1165.32, val loss: 1142.89, train acc: 0.000, val acc 0.000<p>Train loss: 1142.62, val loss: 1154.08, train acc: 0.000, val acc 0.000<p>Train loss: 1124.74, val loss: 1127.47, train acc: 0.000, val acc 0.000<p>Train loss: 1107.06, val loss: 1180.93, train acc: 0.000, val acc 0.000<p>Train loss: 1105.23, val loss: 1106.78, train acc: 0.000, val acc 0.000<p>Train loss: 1106.99, val loss: 1091.35, train acc: 0.000, val acc 0.000<p>Train loss: 1091.00, val loss: 1104.48, train acc: 0.000, val acc 0.000<p>Train loss: 1078.99, val loss: 1131.28, train acc: 0.000, val acc 0.000<p>Train loss: 1078.49, val loss: 1112.02, train acc: 0.000, val acc 0.000<p>Train loss: 1068.06, val loss: 1072.33, train acc: 0.000, val acc 0.000<p>Train loss: 1069.43, val loss: 1074.60, train acc: 0.000, val acc 0.000<p>Train loss: 1041.90, val loss: 1090.78, train acc: 0.000, val acc 0.000<p>Train loss: 1051.53, val loss: 1045.27, train acc: 0.000, val acc 0.000<p>Train loss: 1041.00, val loss: 1080.92, train acc: 0.000, val acc 0.000<p>Train loss: 1033.86, val loss: 1120.20, train acc: 0.000, val acc 0.000<p>Train loss: 1031.11, val loss: 1069.35, train acc: 0.000, val acc 0.000<p>Train loss: 1017.61, val loss: 1051.95, train acc: 0.000, val acc 0.000<p>Train loss: 1018.57, val loss: 1097.78, train acc: 0.000, val acc 0.000<p>Train loss: 1009.62, val loss: 1010.83, train acc: 0.000, val acc 0.000<p>Train loss: 997.89, val loss: 1084.81, train acc: 0.000, val acc 0.000<p>Train loss: 1001.55, val loss: 992.21, train acc: 0.000, val acc 0.000<p>Train loss: 990.04, val loss: 1050.85, train acc: 0.000, val acc 0.000<p>Train loss: 988.33, val loss: 1001.51, train acc: 0.000, val acc 0.000<p>Train loss: 987.57, val loss: 1014.79, train acc: 0.000, val acc 0.000<p>Train loss: 984.24, val loss: 1024.46, train acc: 0.000, val acc 0.000<p>Train loss: 981.87, val loss: 1122.62, train acc: 0.000, val acc 0.000<p>Train loss: 973.64, val loss: 973.46, train acc: 0.000, val acc 0.000<p>Train loss: 969.50, val loss: 1073.57, train acc: 0.000, val acc 0.000<p>Train loss: 974.52, val loss: 979.22, train acc: 0.000, val acc 0.000<p>Train loss: 970.10, val loss: 980.67, train acc: 0.000, val acc 0.000<p>Train loss: 964.26, val loss: 998.61, train acc: 0.000, val acc 0.000<p>Train loss: 963.38, val loss: 958.89, train acc: 0.000, val acc 0.000<p>Train loss: 957.97, val loss: 1021.86, train acc: 0.000, val acc 0.000<p>Train loss: 971.68, val loss: 1053.11, train acc: 0.000, val acc 0.000<p>Train loss: 951.30, val loss: 982.74, train acc: 0.000, val acc 0.000<p>Train loss: 954.92, val loss: 1068.55, train acc: 0.000, val acc 0.000<p>Train loss: 950.18, val loss: 1024.82, train acc: 0.000, val acc 0.000<p>Train loss: 949.26, val loss: 1116.57, train acc: 0.000, val acc 0.000<p>Train loss: 946.16, val loss: 971.68, train acc: 0.000, val acc 0.000<p>Train loss: 945.42, val loss: 985.39, train acc: 0.000, val acc 0.000<p>Train loss: 943.96, val loss: 965.69, train acc: 0.000, val acc 0.000<p>Train loss: 942.15, val loss: 970.52, train acc: 0.000, val acc 0.000<p>Train loss: 939.44, val loss: 998.32, train acc: 0.000, val acc 0.000<p>Train loss: 940.97, val loss: 964.79, train acc: 0.000, val acc 0.000<p>Train loss: 943.37, val loss: 950.30, train acc: 0.000, val acc 0.000<p>Train loss: 935.42, val loss: 939.52, train acc: 0.000, val acc 0.000"
      ],
      "text/plain": [
       "<IPython.core.display.HTML object>"
      ]
     },
     "metadata": {},
     "output_type": "display_data"
    },
    {
     "name": "stdout",
     "output_type": "stream",
     "text": [
      "Finished training after 85 seconds.\n"
     ]
    },
    {
     "data": {
      "image/png": "[encoded data removed]",
      "text/plain": [
       "<Figure size 640x480 with 1 Axes>"
      ]
     },
     "metadata": {},
     "output_type": "display_data"
    }
   ],
   "source": [
    "# Initialize the model\n",
    "model = MLP(num_data, num_labels, num_hidden_units=30, num_hidden_layers=4).to(device)\n",
    "# Set loss function and optimizer\n",
    "criterion = nn.MSELoss()\n",
    "lr = 10**(-3)\n",
    "optimizer = optim.Adam(model.parameters(), lr=lr)\n",
    "\n",
    "num_epochs = 50\n",
    "\n",
    "train_losses, val_losses, train_tpes, val_tpes = run_training(model=model, optimizer=optimizer, num_epochs=num_epochs, train_dataloader=trainloader, val_dataloader=valloader, \n",
    "                                                              device=device, loss_fn=criterion, verbose=True)"
   ]
  },
  {
   "cell_type": "code",
   "execution_count": 65,
   "metadata": {},
   "outputs": [],
   "source": [
    "# Save the model\n",
    "torch.save(model.state_dict(), 'model_saves/mlp_1.pth' )"
   ]
  }
 ],
 "metadata": {
  "kernelspec": {
   "display_name": "Python 3",
   "language": "python",
   "name": "python3"
  },
  "language_info": {
   "codemirror_mode": {
    "name": "ipython",
    "version": 3
   },
   "file_extension": ".py",
   "mimetype": "text/x-python",
   "name": "python",
   "nbconvert_exporter": "python",
   "pygments_lexer": "ipython3",
   "version": "3.11.9"
  }
 },
 "nbformat": 4,
 "nbformat_minor": 2
}
