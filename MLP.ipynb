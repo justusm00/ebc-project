{
 "cells": [
  {
   "cell_type": "markdown",
   "metadata": {},
   "source": [
    "This notebook is used to predict missing Flux-data for Göttingen forest and the forst bothanical garden.  \n",
    "The approach used is an MLP. Be careful to adjust how many cpu cores u want to use during training!"
   ]
  },
  {
   "cell_type": "code",
   "execution_count": 7,
   "metadata": {},
   "outputs": [],
   "source": [
    "# important  imports\n",
    "import os\n",
    "import time\n",
    "\n",
    "import numpy as np\n",
    "import pandas as pd\n",
    "import seaborn as sns\n",
    "import matplotlib.pyplot as plt\n",
    "\n",
    "import torch\n",
    "import torch.nn as nn\n",
    "import torch.optim as optim\n",
    "import torch.nn.functional as F\n",
    "from torch.utils.data import Dataset, DataLoader\n",
    "import fastprogress\n",
    "\n",
    "from sklearn.preprocessing import MinMaxScaler\n"
   ]
  },
  {
   "cell_type": "code",
   "execution_count": 8,
   "metadata": {},
   "outputs": [
    {
     "name": "stdout",
     "output_type": "stream",
     "text": [
      "8 CPUs available, 4 were assigned\n"
     ]
    }
   ],
   "source": [
    "# Get number of cpus to use for faster parallelized data loading\n",
    "avb_cpus = os.cpu_count()\n",
    "\n",
    "num_cpus = 4\n",
    "\n",
    "print(avb_cpus, 'CPUs available,', num_cpus, 'were assigned' )"
   ]
  },
  {
   "cell_type": "markdown",
   "metadata": {},
   "source": [
    "#  Utilites"
   ]
  },
  {
   "cell_type": "code",
   "execution_count": 9,
   "metadata": {},
   "outputs": [],
   "source": [
    "############# UTILITIES ############\n",
    "\n",
    "from modules.util import EBCDataset, grab_data, train_val_test_splitter, data_loaders, EarlyStopper"
   ]
  },
  {
   "cell_type": "markdown",
   "metadata": {},
   "source": [
    "# Training Functions"
   ]
  },
  {
   "cell_type": "code",
   "execution_count": 20,
   "metadata": {},
   "outputs": [],
   "source": [
    "############# TRAINING FUNCTIONS ###############\n",
    "\n",
    "# Define validation metric\n",
    "def prediction_error(y, y_pred): \n",
    "    #return abs(y - y_pred)\n",
    "    return 0\n",
    "\n",
    "\n",
    "\n",
    "\n",
    "def train(dataloader, optimizer, model, master_bar, loss_fn = nn.MSELoss()):\n",
    "    \"\"\"Run one training epoch.\n",
    "\n",
    "    Args:\n",
    "        dataloade: dataloader containing trainingdata\n",
    "        optimizer: Torch optimizer object\n",
    "        model: the model that is trained\n",
    "        loss_fn: the loss function to be used -> nn.MSELoss()\n",
    "        master_bar: Will be iterated over for each\n",
    "            epoch to draw batches and display training progress\n",
    "\n",
    "    Returns:\n",
    "        Mean epoch loss and accuracy\n",
    "    \"\"\"\n",
    "    loss = []\n",
    "\n",
    "    for x, y in fastprogress.progress_bar(dataloader, parent=master_bar):\n",
    "        # Reset optimmizers\n",
    "        optimizer.zero_grad()\n",
    "        model.train()\n",
    "\n",
    "        # Forward pass\n",
    "        y_pred = model(x)\n",
    "\n",
    "        # Compute loss\n",
    "        epoch_loss = loss_fn(y_pred, y)\n",
    "\n",
    "        # Backward pass\n",
    "        epoch_loss.backward()\n",
    "        optimizer.step()\n",
    "\n",
    "        # For plotting the train loss, save it for each sample\n",
    "        loss.append(epoch_loss.item())\n",
    "\n",
    "    # Return the mean loss and the accuracy of this epoch\n",
    "    return np.mean(loss)\n",
    "\n",
    "\n",
    "\n",
    "\n",
    "\n",
    "def validate(dataloader, model, master_bar, loss_fn=nn.MSELoss()):\n",
    "    \"\"\"Compute loss and total prediction error on validation set.\n",
    "\n",
    "    Args:\n",
    "        dataloader: dataloader containing validation data\n",
    "        model (nn.Module): the model to train\n",
    "        loss_fn: the loss function to be used, defaults to MSELoss\n",
    "        master_bar (fastprogress.master_bar): Will be iterated over to draw \n",
    "            batches and show validation progress\n",
    "\n",
    "    Returns:\n",
    "        Mean loss and total prediction error on validation set\n",
    "    \"\"\"\n",
    "    epoch_loss = []\n",
    "\n",
    "    model.eval()\n",
    "    with torch.no_grad():\n",
    "        for x, y in fastprogress.progress_bar(dataloader, parent=master_bar):\n",
    "            # make a prediction on validation set\n",
    "            y_pred = model(x)\n",
    "\n",
    "            # Compute loss\n",
    "            loss = loss_fn(y_pred, y)\n",
    "\n",
    "            # For plotting the train loss, save it for each sample\n",
    "            epoch_loss.append(loss.item())\n",
    "\n",
    "    # Return the mean loss, the accuracy and the confusion matrix\n",
    "    return np.mean(epoch_loss)\n",
    "\n",
    "\n",
    "\n",
    "\n",
    "\n",
    "def plot(title, label, train_results, val_results, yscale='linear', save_path=None):\n",
    "    \"\"\"Plot learning curves.\n",
    "\n",
    "    Args:\n",
    "        title: Title of plot\n",
    "        label: y-axis label\n",
    "        train_results: Vector containing training results over epochs\n",
    "        val_results: vector containing validation results over epochs\n",
    "        yscale: Defines how the y-axis scales\n",
    "        save_path: Optional path for saving file\n",
    "    \"\"\"\n",
    "    \n",
    "    epochs = np.arange(len(train_results)) + 1\n",
    "    \n",
    "    sns.set(style='ticks')\n",
    "\n",
    "    plt.plot(epochs, train_results, epochs, val_results, linestyle='dashed', marker='o')\n",
    "    legend = ['Train results', 'Validation results']\n",
    "        \n",
    "    plt.legend(legend)\n",
    "    plt.xlabel('Epoch')\n",
    "    plt.ylabel(label)\n",
    "    plt.yscale(yscale)\n",
    "    plt.title(title)\n",
    "    \n",
    "    sns.despine(trim=True, offset=5)\n",
    "    plt.title(title, fontsize=15)\n",
    "    if save_path:\n",
    "        plt.savefig(str(os.path.join( save_path , label+\".png\")), bbox_inches='tight')\n",
    "    plt.show()\n",
    "\n",
    "\n",
    "\n",
    "\n",
    "def run_training(model, optimizer, num_epochs, train_dataloader, val_dataloader, \n",
    "                 loss_fn=nn.MSELoss(), patience=1, early_stopper=None, scheduler=None, verbose=False):\n",
    "\n",
    "    start_time = time.time()\n",
    "    master_bar = fastprogress.master_bar(range(num_epochs))\n",
    "    train_losses, val_losses = [],[]\n",
    "    \n",
    "    if early_stopper:\n",
    "        ES = EarlyStopper(patience = patience)\n",
    "\n",
    "    # initialize old loss value varibale\n",
    "    val_loss_old = 0\n",
    "    \n",
    "    for i,epoch in enumerate(master_bar):\n",
    "        # Train the model\n",
    "        epoch_train_loss = train(train_dataloader, optimizer, model, \n",
    "                                                 master_bar, loss_fn)\n",
    "        # Validate the model\n",
    "        epoch_val_loss = validate(val_dataloader, model, master_bar, loss_fn)\n",
    "        \n",
    "        # Save loss and acc for plotting\n",
    "        train_losses.append(epoch_train_loss)\n",
    "        val_losses.append(epoch_val_loss)\n",
    "\n",
    "        if verbose:\n",
    "            master_bar.write(f'Train loss: {epoch_train_loss:.2f}, val loss: {epoch_val_loss:.2f}')\n",
    "            \n",
    "        if early_stopper and i != 0:\n",
    "            \n",
    "            ES.check_criterion(epoch_val_loss, val_loss_old)\n",
    "            if ES.early_stop:\n",
    "                model = ES.load_checkpoint()\n",
    "                break\n",
    "        # Save biggest\n",
    "        if early_stopper and epoch_val_loss > val_loss_old:\n",
    "            val_loss_old = epoch_val_loss\n",
    "            ES.save_model(model)\n",
    "            \n",
    "        if scheduler:\n",
    "            scheduler.step()\n",
    "            \n",
    "    time_elapsed = np.round(time.time() - start_time, 0).astype(int)\n",
    "    print(f'Finished training after {time_elapsed} seconds.')\n",
    "\n",
    "    plot(\"Loss\", \"Loss\", train_losses, val_losses)\n",
    "    return train_losses, val_losses"
   ]
  },
  {
   "cell_type": "markdown",
   "metadata": {},
   "source": [
    "# The Multilayer Perceptron"
   ]
  },
  {
   "cell_type": "code",
   "execution_count": 21,
   "metadata": {},
   "outputs": [],
   "source": [
    "from modules.models import MLP\n",
    "from columns import COLS_FEATURES, COLS_LABELS, PATH"
   ]
  },
  {
   "cell_type": "markdown",
   "metadata": {},
   "source": [
    "# The Training"
   ]
  },
  {
   "cell_type": "code",
   "execution_count": 22,
   "metadata": {},
   "outputs": [
    {
     "name": "stdout",
     "output_type": "stream",
     "text": [
      "tensor([7144.9404, 4185.6890])\n"
     ]
    }
   ],
   "source": [
    "# Collect data and create data loaders\n",
    "# if COLS_METEO and COLS_FLUXES are changed make sure to run the preprocessing pipeline first\n",
    "dataset, num_data, num_labels = grab_data('data/training_data_merged.csv', COLS_FEATURES, COLS_LABELS)\n",
    "\n",
    "trainset, valset, testset = train_val_test_splitter(dataset)\n",
    "\n",
    "\n",
    "# normalize features based on trainset statistics only\n",
    "# trainset_mean = torch.mean(trainset.dataset.dataset.data, dim=0)\n",
    "# trainset_std = torch.std(trainset.dataset.dataset.data, dim=0)\n",
    "\n",
    "# trainset.dataset.dataset.data = (trainset.dataset.dataset.data - trainset_mean) / trainset_std ** 2\n",
    "# valset.dataset.dataset.data = (valset.dataset.dataset.data - trainset_mean) / trainset_std ** 2\n",
    "# testset.dataset.data = (trainset.dataset.dataset.data - trainset_mean) / trainset_std ** 2\n",
    "\n",
    "labels_std = torch.std(trainset.dataset.dataset.labels, dim=0)\n",
    "print(labels_std**2)\n",
    "\n",
    "trainloader, valloader, testloader = data_loaders(trainset, valset, testset, num_cpus=num_cpus, batch_size=10)"
   ]
  },
  {
   "cell_type": "code",
   "execution_count": 23,
   "metadata": {},
   "outputs": [
    {
     "data": {
      "text/html": [
       "\n",
       "<style>\n",
       "    /* Turns off some styling */\n",
       "    progress {\n",
       "        /* gets rid of default border in Firefox and Opera. */\n",
       "        border: none;\n",
       "        /* Needs to be in here for Safari polyfill so background images work as expected. */\n",
       "        background-size: auto;\n",
       "    }\n",
       "    progress:not([value]), progress:not([value])::-webkit-progress-bar {\n",
       "        background: repeating-linear-gradient(45deg, #7e7e7e, #7e7e7e 10px, #5c5c5c 10px, #5c5c5c 20px);\n",
       "    }\n",
       "    .progress-bar-interrupted, .progress-bar-interrupted::-webkit-progress-bar {\n",
       "        background: #F44336;\n",
       "    }\n",
       "</style>\n"
      ],
      "text/plain": [
       "<IPython.core.display.HTML object>"
      ]
     },
     "metadata": {},
     "output_type": "display_data"
    },
    {
     "data": {
      "text/html": [
       "Train loss: 8095.57, val loss: 6789.88"
      ],
      "text/plain": [
       "<IPython.core.display.HTML object>"
      ]
     },
     "metadata": {},
     "output_type": "display_data"
    },
    {
     "name": "stdout",
     "output_type": "stream",
     "text": [
      "Finished training after 6 seconds.\n"
     ]
    }
   ],
   "source": [
    "# run single epoch with very low learning rate to check if initial loss is higher than label variance (it should be)\n",
    "# Initialize the model\n",
    "model = MLP(num_data, num_labels, num_hidden_units=30, num_hidden_layers=4)\n",
    "# Set loss function and optimizer\n",
    "criterion = nn.MSELoss()\n",
    "lr = 10**(-5)\n",
    "optimizer = optim.Adam(model.parameters(), lr=lr)\n",
    "\n",
    "num_epochs = 1\n",
    "\n",
    "train_losses, val_losses = run_training(model, optimizer, num_epochs, trainloader, valloader, \n",
    "                 loss_fn=nn.MSELoss(), patience=1, early_stopper=None, scheduler=None, verbose=True)\n"
   ]
  },
  {
   "cell_type": "markdown",
   "metadata": {},
   "source": [
    "Train on larger timeframe."
   ]
  },
  {
   "cell_type": "code",
   "execution_count": 9,
   "metadata": {},
   "outputs": [
    {
     "data": {
      "text/html": [
       "\n",
       "<style>\n",
       "    /* Turns off some styling */\n",
       "    progress {\n",
       "        /* gets rid of default border in Firefox and Opera. */\n",
       "        border: none;\n",
       "        /* Needs to be in here for Safari polyfill so background images work as expected. */\n",
       "        background-size: auto;\n",
       "    }\n",
       "    progress:not([value]), progress:not([value])::-webkit-progress-bar {\n",
       "        background: repeating-linear-gradient(45deg, #7e7e7e, #7e7e7e 10px, #5c5c5c 10px, #5c5c5c 20px);\n",
       "    }\n",
       "    .progress-bar-interrupted, .progress-bar-interrupted::-webkit-progress-bar {\n",
       "        background: #F44336;\n",
       "    }\n",
       "</style>\n"
      ],
      "text/plain": [
       "<IPython.core.display.HTML object>"
      ]
     },
     "metadata": {},
     "output_type": "display_data"
    },
    {
     "data": {
      "text/html": [
       "Train loss: 2055.51, val loss: 1457.33, train acc: 0.000, val acc 0.000<p>Train loss: 1424.56, val loss: 1176.39, train acc: 0.000, val acc 0.000<p>Train loss: 1232.06, val loss: 1118.70, train acc: 0.000, val acc 0.000<p>Train loss: 1129.52, val loss: 1069.50, train acc: 0.000, val acc 0.000<p>Train loss: 1086.52, val loss: 1028.92, train acc: 0.000, val acc 0.000<p>Train loss: 1068.92, val loss: 1133.02, train acc: 0.000, val acc 0.000<p>Train loss: 1051.58, val loss: 1074.68, train acc: 0.000, val acc 0.000<p>Train loss: 1048.65, val loss: 1015.45, train acc: 0.000, val acc 0.000<p>Train loss: 1043.93, val loss: 995.17, train acc: 0.000, val acc 0.000<p>Train loss: 1023.39, val loss: 1018.07, train acc: 0.000, val acc 0.000<p>Train loss: 1026.38, val loss: 1022.65, train acc: 0.000, val acc 0.000<p>Train loss: 1018.21, val loss: 1057.85, train acc: 0.000, val acc 0.000<p>Train loss: 1012.16, val loss: 1022.57, train acc: 0.000, val acc 0.000<p>Train loss: 1013.20, val loss: 1196.22, train acc: 0.000, val acc 0.000<p>Train loss: 993.67, val loss: 997.48, train acc: 0.000, val acc 0.000<p>Train loss: 995.37, val loss: 950.91, train acc: 0.000, val acc 0.000<p>Train loss: 998.40, val loss: 980.70, train acc: 0.000, val acc 0.000<p>Train loss: 992.94, val loss: 948.27, train acc: 0.000, val acc 0.000<p>Train loss: 984.70, val loss: 1015.11, train acc: 0.000, val acc 0.000<p>Train loss: 969.16, val loss: 944.90, train acc: 0.000, val acc 0.000<p>Train loss: 954.37, val loss: 913.56, train acc: 0.000, val acc 0.000<p>Train loss: 946.46, val loss: 905.93, train acc: 0.000, val acc 0.000<p>Train loss: 930.67, val loss: 911.42, train acc: 0.000, val acc 0.000<p>Train loss: 933.14, val loss: 874.36, train acc: 0.000, val acc 0.000<p>Train loss: 913.02, val loss: 864.57, train acc: 0.000, val acc 0.000<p>Train loss: 905.69, val loss: 903.96, train acc: 0.000, val acc 0.000<p>Train loss: 908.97, val loss: 845.32, train acc: 0.000, val acc 0.000<p>Train loss: 890.95, val loss: 1040.56, train acc: 0.000, val acc 0.000<p>Train loss: 883.65, val loss: 849.52, train acc: 0.000, val acc 0.000<p>Train loss: 873.35, val loss: 901.46, train acc: 0.000, val acc 0.000<p>Train loss: 889.66, val loss: 910.59, train acc: 0.000, val acc 0.000<p>Train loss: 885.62, val loss: 868.90, train acc: 0.000, val acc 0.000<p>Train loss: 863.25, val loss: 840.66, train acc: 0.000, val acc 0.000<p>Train loss: 870.32, val loss: 832.19, train acc: 0.000, val acc 0.000<p>Train loss: 869.84, val loss: 903.04, train acc: 0.000, val acc 0.000<p>Train loss: 861.33, val loss: 930.09, train acc: 0.000, val acc 0.000<p>Train loss: 870.90, val loss: 918.17, train acc: 0.000, val acc 0.000<p>Train loss: 863.13, val loss: 820.41, train acc: 0.000, val acc 0.000<p>Train loss: 861.45, val loss: 805.85, train acc: 0.000, val acc 0.000<p>Train loss: 852.36, val loss: 819.36, train acc: 0.000, val acc 0.000<p>Train loss: 855.05, val loss: 873.31, train acc: 0.000, val acc 0.000<p>Train loss: 853.66, val loss: 856.41, train acc: 0.000, val acc 0.000<p>Train loss: 862.79, val loss: 931.46, train acc: 0.000, val acc 0.000<p>Train loss: 845.11, val loss: 807.59, train acc: 0.000, val acc 0.000<p>Train loss: 833.96, val loss: 813.46, train acc: 0.000, val acc 0.000<p>Train loss: 853.20, val loss: 881.33, train acc: 0.000, val acc 0.000<p>Train loss: 844.48, val loss: 938.88, train acc: 0.000, val acc 0.000<p>Train loss: 832.19, val loss: 1021.78, train acc: 0.000, val acc 0.000<p>Train loss: 839.53, val loss: 875.59, train acc: 0.000, val acc 0.000<p>Train loss: 827.12, val loss: 804.64, train acc: 0.000, val acc 0.000<p>Train loss: 839.98, val loss: 813.31, train acc: 0.000, val acc 0.000<p>Train loss: 830.82, val loss: 807.34, train acc: 0.000, val acc 0.000<p>Train loss: 834.86, val loss: 866.16, train acc: 0.000, val acc 0.000<p>Train loss: 841.66, val loss: 878.13, train acc: 0.000, val acc 0.000<p>Train loss: 828.55, val loss: 800.67, train acc: 0.000, val acc 0.000<p>Train loss: 834.18, val loss: 927.88, train acc: 0.000, val acc 0.000<p>Train loss: 823.01, val loss: 826.34, train acc: 0.000, val acc 0.000<p>Train loss: 832.62, val loss: 789.15, train acc: 0.000, val acc 0.000<p>Train loss: 829.35, val loss: 832.72, train acc: 0.000, val acc 0.000<p>Train loss: 827.32, val loss: 786.30, train acc: 0.000, val acc 0.000<p>Train loss: 822.96, val loss: 792.62, train acc: 0.000, val acc 0.000<p>Train loss: 820.96, val loss: 860.09, train acc: 0.000, val acc 0.000<p>Train loss: 823.38, val loss: 785.69, train acc: 0.000, val acc 0.000<p>Train loss: 826.60, val loss: 827.02, train acc: 0.000, val acc 0.000<p>Train loss: 815.18, val loss: 808.71, train acc: 0.000, val acc 0.000<p>Train loss: 820.04, val loss: 833.87, train acc: 0.000, val acc 0.000<p>Train loss: 812.40, val loss: 801.17, train acc: 0.000, val acc 0.000<p>Train loss: 808.00, val loss: 895.97, train acc: 0.000, val acc 0.000<p>Train loss: 816.98, val loss: 824.74, train acc: 0.000, val acc 0.000<p>Train loss: 829.07, val loss: 811.94, train acc: 0.000, val acc 0.000<p>Train loss: 814.54, val loss: 799.93, train acc: 0.000, val acc 0.000<p>Train loss: 810.72, val loss: 834.63, train acc: 0.000, val acc 0.000<p>Train loss: 816.03, val loss: 838.16, train acc: 0.000, val acc 0.000<p>Train loss: 816.06, val loss: 799.06, train acc: 0.000, val acc 0.000<p>Train loss: 808.54, val loss: 794.17, train acc: 0.000, val acc 0.000<p>Train loss: 801.17, val loss: 814.88, train acc: 0.000, val acc 0.000<p>Train loss: 813.72, val loss: 860.54, train acc: 0.000, val acc 0.000<p>Train loss: 805.38, val loss: 813.12, train acc: 0.000, val acc 0.000<p>Train loss: 800.08, val loss: 775.42, train acc: 0.000, val acc 0.000<p>Train loss: 805.78, val loss: 772.46, train acc: 0.000, val acc 0.000<p>Train loss: 794.82, val loss: 870.01, train acc: 0.000, val acc 0.000<p>Train loss: 807.25, val loss: 814.85, train acc: 0.000, val acc 0.000<p>Train loss: 798.46, val loss: 818.60, train acc: 0.000, val acc 0.000<p>Train loss: 793.36, val loss: 800.02, train acc: 0.000, val acc 0.000<p>Train loss: 805.18, val loss: 784.78, train acc: 0.000, val acc 0.000<p>Train loss: 803.87, val loss: 780.74, train acc: 0.000, val acc 0.000<p>Train loss: 798.46, val loss: 789.18, train acc: 0.000, val acc 0.000<p>Train loss: 807.36, val loss: 831.77, train acc: 0.000, val acc 0.000<p>Train loss: 782.95, val loss: 802.97, train acc: 0.000, val acc 0.000<p>Train loss: 788.30, val loss: 896.14, train acc: 0.000, val acc 0.000<p>Train loss: 793.37, val loss: 907.51, train acc: 0.000, val acc 0.000<p>Train loss: 797.61, val loss: 839.02, train acc: 0.000, val acc 0.000<p>Train loss: 790.74, val loss: 767.24, train acc: 0.000, val acc 0.000<p>Train loss: 783.80, val loss: 903.09, train acc: 0.000, val acc 0.000<p>Train loss: 786.71, val loss: 850.52, train acc: 0.000, val acc 0.000<p>Train loss: 791.72, val loss: 880.76, train acc: 0.000, val acc 0.000<p>Train loss: 791.35, val loss: 770.66, train acc: 0.000, val acc 0.000<p>Train loss: 777.42, val loss: 780.29, train acc: 0.000, val acc 0.000<p>Train loss: 784.05, val loss: 775.16, train acc: 0.000, val acc 0.000<p>Train loss: 782.23, val loss: 789.85, train acc: 0.000, val acc 0.000"
      ],
      "text/plain": [
       "<IPython.core.display.HTML object>"
      ]
     },
     "metadata": {},
     "output_type": "display_data"
    },
    {
     "name": "stdout",
     "output_type": "stream",
     "text": [
      "Finished training after 535 seconds.\n"
     ]
    },
    {
     "data": {
      "image/png": "[encoded data removed]",
      "text/plain": [
       "<Figure size 640x480 with 1 Axes>"
      ]
     },
     "metadata": {},
     "output_type": "display_data"
    },
    {
     "data": {
      "image/png": "[encoded data removed]",
      "text/plain": [
       "<Figure size 640x480 with 1 Axes>"
      ]
     },
     "metadata": {},
     "output_type": "display_data"
    }
   ],
   "source": [
    "# Initialize the model\n",
    "model = MLP(num_data, num_labels, num_hidden_units=30, num_hidden_layers=4)\n",
    "# Set loss function and optimizer\n",
    "criterion = nn.MSELoss()\n",
    "lr = 10**(-3)\n",
    "optimizer = optim.Adam(model.parameters(), lr=lr)\n",
    "\n",
    "num_epochs = 100\n",
    "\n",
    "train_losses, val_losses, train_tpes, val_tpes = run_training(model, optimizer, num_epochs, trainloader, valloader, \n",
    "                                                              criterion, verbose=True)"
   ]
  },
  {
   "cell_type": "code",
   "execution_count": 65,
   "metadata": {},
   "outputs": [],
   "source": [
    "# Save the model\n",
    "torch.save(model.state_dict(), 'model_saves/mlp_1.pth' )"
   ]
  },
  {
   "cell_type": "code",
   "execution_count": null,
   "metadata": {},
   "outputs": [],
   "source": []
  }
 ],
 "metadata": {
  "kernelspec": {
   "display_name": "Python 3",
   "language": "python",
   "name": "python3"
  },
  "language_info": {
   "codemirror_mode": {
    "name": "ipython",
    "version": 3
   },
   "file_extension": ".py",
   "mimetype": "text/x-python",
   "name": "python",
   "nbconvert_exporter": "python",
   "pygments_lexer": "ipython3",
   "version": "3.11.5"
  }
 },
 "nbformat": 4,
 "nbformat_minor": 2
}
